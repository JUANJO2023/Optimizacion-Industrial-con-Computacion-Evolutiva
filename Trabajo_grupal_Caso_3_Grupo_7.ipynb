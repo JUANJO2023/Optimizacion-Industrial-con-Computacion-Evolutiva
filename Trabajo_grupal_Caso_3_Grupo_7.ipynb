{
  "cells": [
    {
      "cell_type": "markdown",
      "source": [
        "# Punto 1: Implementar nuevos operadores de cruzamiento y mutación que aseguren que los individuos representen vuelos diferentes y gates diferentes.\n",
        "# Punto 2. Los elementos heredables en los operadores de cruzamiento deberían ser las asignaciones flight-gate\n",
        "# Punto 3. La mutación debería ser en los niveles de flights y de gates\n",
        "# Punto 4. Genere 30 vuelos y 10 gates\n"
      ],
      "metadata": {
        "id": "iFLbS55fXoSC"
      }
    },
    {
      "cell_type": "markdown",
      "source": [
        "* Usamos \"computación evolutiva\" para asignar aviones (vuelos) a puertas (gates) en un aeropuerto.\n",
        "* El objetivo es maximizar \"eficiencia\" – que significa desembarcar pasajeros lo más rápido posible.\n",
        "* El código base que tenemos ya hace algo, pero tiene bugs: Puede asignar el mismo gate a múltiples vuelos, abriendo posibilidades de choques y no \"evoluciona\" bien qué vuelos elegir. Vamos a mejorarlo paso por paso."
      ],
      "metadata": {
        "id": "v14aq_PsUZDC"
      }
    },
    {
      "cell_type": "markdown",
      "source": [
        "# Paso 1: Importar Librerías (el \"kit de herramientas\")\n",
        "\n",
        "* Primero, cargamos librerías, estas nos ayudan con números random (para \"evolución\" aleatoria), copias de cosas (para no romper originales), gráficos (para ver resultados) y tiempo (para medir speed, pero no lo usamos mucho aquí). random es clave para mutaciones y cruces."
      ],
      "metadata": {
        "id": "wPBR0rxYU3ka"
      }
    },
    {
      "cell_type": "code",
      "source": [
        "import sys  # Para manejar el sistema (no mucho usado aquí)\n",
        "import time  # Para medir tiempos si quieres\n",
        "import numpy as np  # Para matemáticas rápidas (como arrays)\n",
        "import random  # Para números al azar (crucial en evolución)\n",
        "from random import seed, randint, sample, uniform, randrange  # Funcs específicas de random\n",
        "from copy import deepcopy  # Para copiar listas sin problemas\n",
        "import matplotlib.pyplot as plt  # Para dibujar gráficos"
      ],
      "metadata": {
        "id": "mWVKCWzWVCUC"
      },
      "execution_count": null,
      "outputs": []
    },
    {
      "cell_type": "markdown",
      "source": [
        "#Paso 2: Definir Clases para Gates y Vuelos (los \"personajes\" del juego)\n",
        "\n",
        "* Ahora creamos \"clases\" – como moldes para objetos. Un \"Gate\" es una puerta, un \"Flight\" un vuelo. Usamos herencia (como subclases en un juego: \"Sleeve\" y \"Zone\" son tipos de Gate).\n",
        "\n",
        "* Explicación: Asumimos a Gate como base de un personaje. Sleeve es tipo \"manga\" (pasillo para caminar), Zone es \"zona remota\" con bus. Flight es el avión con pasajeros y tiempos. __init__ es como crear el personaje con stats. __hash__ ayuda a chequear unicidad.\n",
        "* Por qué: Modela el aeropuerto real. Sin esto, no puedes \"asignar\" nada."
      ],
      "metadata": {
        "id": "W_8bzaDlVGt_"
      }
    },
    {
      "cell_type": "code",
      "source": [
        "# Clase base para Gates (puertas)\n",
        "class Gate(object):\n",
        "    def __init__(self, identifier, x, y, z):\n",
        "        self.identifier = identifier  # ID único del gate\n",
        "        self.distance = x  # Distancia/longitud (depende del tipo)\n",
        "        self.potential_of_speed = y  # Velocidad (pasajeros o bus)\n",
        "        self.number_of_persons_every_10m = z  # Capacidad (por 10m o bus)\n",
        "\n",
        "    def __hash__(self):\n",
        "        return self.identifier  # Para chequear unicidad fácil\n",
        "\n",
        "# Tipo específico: Sleeve (manga para caminar)\n",
        "class Sleeve(Gate):\n",
        "    def __init__(self, identifier, length_of_sleeve, speed_of_passengers_on_sleeve, number_of_passengers_every_10m):\n",
        "        super().__init__(identifier, length_of_sleeve, speed_of_passengers_on_sleeve, number_of_passengers_every_10m)\n",
        "\n",
        "# Tipo específico: Zone (zona con bus)\n",
        "class Zone(Gate):\n",
        "    def __init__(self, identifier, distance_zone_door, speed_bus, capacity_of_bus):\n",
        "        super().__init__(identifier, distance_zone_door, speed_bus, capacity_of_bus)\n",
        "\n",
        "# Clase para Vuelos (aviones)\n",
        "class Flight(object):\n",
        "    def __init__(self, identifier, maximum_capacity, number_of_passengers, parking_time, length_wings, inspection_time, landing_time_on_stairs, arriving_time, leaving_time):\n",
        "        self.identifier = identifier  # ID único del vuelo\n",
        "        self.maximum_capacity = maximum_capacity  # Max pasajeros\n",
        "        self.number_of_passengers = number_of_passengers  # Pasajeros reales\n",
        "        self.parking_time = parking_time  # Tiempo park\n",
        "        self.length_wings = length_wings  # Longitud alas\n",
        "        self.inspection_time = inspection_time  # Tiempo inspección\n",
        "        self.landing_time_on_stairs = landing_time_on_stairs  # Tiempo bajar escaleras\n",
        "        self.arriving_time = arriving_time  # Hora llegada\n",
        "        self.leaving_time = leaving_time  # Hora salida\n",
        "\n",
        "    def __hash__(self):\n",
        "        return self.identifier  # Para unicidad"
      ],
      "metadata": {
        "id": "83HW-l6_Vhb3"
      },
      "execution_count": null,
      "outputs": []
    },
    {
      "cell_type": "markdown",
      "source": [
        "Ahora se puede crear gates/vuelos como mi_gate = Sleeve(1, 10, 2, 5)."
      ],
      "metadata": {
        "id": "84zubQ7PVqIm"
      }
    },
    {
      "cell_type": "markdown",
      "source": [
        "# Paso 3: Clase Individual\n"
      ],
      "metadata": {
        "id": "gG5WqzpZVvsQ"
      }
    },
    {
      "cell_type": "markdown",
      "source": [
        "* Cada \"individuo\" (que es como una idea o solución posible en el juego) es una lista de vuelos únicos (aviones elegidos sin repetir ninguno) más una lista de gates únicos (puertas donde se aparcan los aviones, también sin repetir).\n",
        "* Explicación simple:\n",
        "  * Los \"flights\" (aviones elegidos para asignar) van en una lista, y los \"gates\" (lugares donde se aparcan) van en otra lista del mismo orden (como parejas: el primer avión va al primer lugar).\n",
        "  * La \"fitness\" (puntaje o nota que le damos a la idea) mide qué tan buena es la solución, por ejemplo, la eficiencia (cuántos pasajeros se bajan rápido).\n",
        "* Nuevos operadores (reglas especiales para mejorar las ideas):\n",
        "  * Cruzamiento (crossover_new, mezclar dos ideas buenas para hacer nuevas):\n",
        "    * Toma dos \"papás\" (dos soluciones buenas) y las mezcla. Combina los vuelos únicos de ambos (sin repetir aviones), y hereda (pasa a los hijos) los gates donde es posible (esto es el punto 2, para mantener las buenas parejas de avión-lugar).\n",
        "    * Si hay duplicados en los gates, los resuelve cambiando por nuevos lugares disponibles que no se repitan.\n",
        "  * Mutación (un cambio sorpresa para probar algo nuevo):\n",
        "    * Cambia al azar o un vuelo o un gate, pero siempre asegurando que no se repita nada (esto es el punto 3, y se hace en dos niveles separados: uno para aviones y otro para lugares).\n",
        "    * Si no hay nuevos disponibles, intercambia (swap, que es como cambiar de lugar) con otro que ya está en la lista.\n",
        "* Por qué lo hacemos:\n",
        "  * Esto arregla el error del código original (base), que permitía repeticiones como tener dos aviones en el mismo lugar, lo que es imposible en la vida real.\n",
        "  * Asegura que no haya repetidos (esto es el punto 1).\n",
        "  * Y hereda las parejas (pairs, que son combinaciones de vuelo-gate) cuando puede, para mantener lo bueno de los papás."
      ],
      "metadata": {
        "id": "kt9sMBRo41IR"
      }
    },
    {
      "cell_type": "code",
      "source": [
        "# Clase para Individuo (solución candidata)\n",
        "class Individual(object):\n",
        "    def __init__(self, flights, gates, flights_pool, gates_pool):\n",
        "        self.flights = flights[:]  # Lista vuelos únicos\n",
        "        self.gates = gates[:]  # Lista gates únicos (mismo orden)\n",
        "        self.flights_pool = flights_pool  # Todos vuelos posibles\n",
        "        self.gates_pool = gates_pool  # Todos gates posibles\n",
        "        self.fitness = -1  # Puntuación (-1 = no calculada)\n",
        "\n",
        "    # Nuevo cruzamiento: Mezcla asegurando unicidad\n",
        "    def crossover_new(self, other):\n",
        "        # Unión de vuelos únicos de ambos padres\n",
        "        all_flights = list(set(self.flights + other.flights))\n",
        "        # Elige k vuelos random para hijo1\n",
        "        k = len(self.flights)\n",
        "        child1_flights = random.sample(all_flights, min(k, len(all_flights)))\n",
        "        child1_gates = []\n",
        "        for f in child1_flights:\n",
        "            if f in self.flights:\n",
        "                gate = self.gates[self.flights.index(f)]  # Hereda de padre1\n",
        "            elif f in other.flights:\n",
        "                gate = other.gates[other.flights.index(f)]  # De padre2\n",
        "            else:\n",
        "                gate = random.choice(self.gates_pool)  # Nuevo si raro\n",
        "            child1_gates.append(gate)\n",
        "        # Resuelve duplicados en gates\n",
        "        child1_gates = self.resolve_duplicate_gates(child1_gates)\n",
        "        ind1 = Individual(child1_flights, child1_gates, self.flights_pool, self.gates_pool)\n",
        "\n",
        "        # Hijo2, invirtiendo preferencia de padres\n",
        "        child2_flights = random.sample(all_flights, min(k, len(all_flights)))\n",
        "        child2_gates = []\n",
        "        for f in child2_flights:\n",
        "            if f in other.flights:\n",
        "                gate = other.gates[other.flights.index(f)]  # Prefer padre2\n",
        "            elif f in self.flights:\n",
        "                gate = self.gates[self.flights.index(f)]  # Padre1\n",
        "            else:\n",
        "                gate = random.choice(self.gates_pool)\n",
        "            child2_gates.append(gate)\n",
        "        child2_gates = self.resolve_duplicate_gates(child2_gates)\n",
        "        ind2 = Individual(child2_flights, child2_gates, self.flights_pool, self.gates_pool)\n",
        "        return [ind1, ind2]\n",
        "\n",
        "    # Helper para resolver duplicados en gates\n",
        "    def resolve_duplicate_gates(self, gates):\n",
        "        from collections import Counter\n",
        "        count = Counter(gates)\n",
        "        if len(count) == len(gates):  # No dups\n",
        "            return gates\n",
        "        seen = set()\n",
        "        new_gates = gates.copy()\n",
        "        for idx, g in enumerate(new_gates):\n",
        "            if g in seen:\n",
        "                # Reemplaza dup\n",
        "                available = [gg for gg in self.gates_pool if gg not in seen]\n",
        "                if available:\n",
        "                    new_gates[idx] = random.choice(available)\n",
        "                else:\n",
        "                    # Swap con otro si no hay\n",
        "                    swap_idx = random.randrange(len(new_gates))\n",
        "                    while new_gates[swap_idx] == g:  # Evita mismo\n",
        "                        swap_idx = random.randrange(len(new_gates))\n",
        "                    new_gates[idx], new_gates[swap_idx] = new_gates[swap_idx], new_gates[idx]\n",
        "            seen.add(new_gates[idx])\n",
        "        return new_gates\n",
        "\n",
        "    # Nueva mutación: Cambia flight o gate, asegurando unicidad\n",
        "    def mutate(self):\n",
        "        mutated_flights = self.flights.copy()\n",
        "        mutated_gates = self.gates.copy()\n",
        "        if random.random() < 0.5:  # Mutar flight\n",
        "            index = random.randrange(len(mutated_flights))\n",
        "            available_flights = [f for f in self.flights_pool if f not in mutated_flights]\n",
        "            if available_flights:\n",
        "                mutated_flights[index] = random.choice(available_flights)\n",
        "        else:  # Mutar gate\n",
        "            index = random.randrange(len(mutated_gates))\n",
        "            available_gates = [g for g in self.gates_pool if g not in mutated_gates]\n",
        "            if available_gates:\n",
        "                mutated_gates[index] = random.choice(available_gates)\n",
        "            else:\n",
        "                # Swap dos gates si no hay nuevos\n",
        "                i1, i2 = random.sample(range(len(mutated_gates)), 2)\n",
        "                mutated_gates[i1], mutated_gates[i2] = mutated_gates[i2], mutated_gates[i1]\n",
        "        return Individual(mutated_flights, mutated_gates, self.flights_pool, self.gates_pool)"
      ],
      "metadata": {
        "id": "HpBtvQB6WCmG"
      },
      "execution_count": null,
      "outputs": []
    },
    {
      "cell_type": "markdown",
      "source": [
        "* Esto arregla o fixea los puntos 1-3. En AG, usaremos crossover_new y mutate."
      ],
      "metadata": {
        "id": "L_5ToxtkWw7O"
      }
    },
    {
      "cell_type": "markdown",
      "source": [
        "# Paso 4: Funciones Utilitarias (las \"herramientas extras\")\n",
        "\n",
        "* Funciones, instrucciones en el código, para crear datos, ordenarlos, calcular el fitness y otras cosas similares.\n",
        "* Explicación:\n",
        "  * Estas funciones crean de forma aleatoria las puertas y los vuelos. * Esto se hace para el punto 4 del proyecto.\n",
        "  * Luego, las ordenan por \"deseabilidad\" (qué tan buenos son los vuelos, como elegir primero los que tienen más pasajeros en menos tiempo, para que sean prioritarios) y por \"flujo\" (qué tan rápidos son los gates para dejar pasar gente, puertas que permiten más personas por minuto).\n",
        "  * El fitness calcula la eficiencia (midiendo el número de pasajeros dividido por el tiempo total que tardan en bajar, usando fórmulas diferentes según el tipo de gate, como si fuera una manga para caminar o una zona con bus).\n",
        "  * La función para iniciar la población crea los individuos únicos al principio (primeras \"ideas\" o soluciones, cada una con vuelos y gates sin repetir).\n",
        "* Por qué:\n",
        "  * Estas funciones preparan los datos para que el AG (algoritmo genético, hace evolucionar las ideas) pueda trabajar.\n",
        "  * El fitness es la \"puntuación\" que guía la evolución."
      ],
      "metadata": {
        "id": "Omi8taHnW2q4"
      }
    },
    {
      "cell_type": "code",
      "source": [
        "# Genera lista de gates (punto 4: 10 gates)\n",
        "def generate_list_of_gates(number_of_gates, max_length_of_sleeve=20, max_speed_of_passengers_on_sleeve=3, max_number_of_passengers_every_10m=12, max_distance_zone_door=50, max_speed_bus=15, max_capacity_of_bus=200):\n",
        "    list_of_gates = []\n",
        "    for gate_identifier in range(number_of_gates):\n",
        "        gate_type = randint(0, 1)\n",
        "        if gate_type == 0:  # Sleeve\n",
        "            distance = randint(1, max_length_of_sleeve)\n",
        "            speed = randint(1, max_speed_of_passengers_on_sleeve)\n",
        "            capacity = randint(1, max_number_of_passengers_every_10m)\n",
        "            gate = Sleeve(gate_identifier, distance, speed, capacity)\n",
        "        else:  # Zone\n",
        "            distance = randint(1, max_distance_zone_door)\n",
        "            speed = randint(1, max_speed_bus)\n",
        "            capacity = randint(1, max_capacity_of_bus)\n",
        "            gate = Zone(gate_identifier, distance, speed, capacity)\n",
        "        list_of_gates.append(gate)\n",
        "    return list_of_gates\n",
        "\n",
        "# Genera lista de flights (punto 4: 30 flights)\n",
        "def generate_list_of_flights(number_of_flights, max_maximum_capacity=100, max_number_of_passengers_factor=0.8, max_parking_time=30, max_length_wings=25, max_inspection_time=180, max_landing_time_on_stairs=60, max_arriving_time=200, max_leaving_time=1000):\n",
        "    list_of_flights = []\n",
        "    max_pax = int(max_number_of_passengers_factor * max_maximum_capacity)\n",
        "    for id in range(number_of_flights):\n",
        "        cap = randint(max_pax, max_maximum_capacity)\n",
        "        pax = randint(1, max_pax)\n",
        "        park = randint(1, max_parking_time)\n",
        "        wings = randint(1, max_length_wings)\n",
        "        inspect = randint(1, max_inspection_time)\n",
        "        stairs = randint(1, max_landing_time_on_stairs)\n",
        "        arrive = randint(1, max_arriving_time)\n",
        "        leave = randint(max_arriving_time + 1, max_leaving_time)\n",
        "        flight = Flight(id, cap, pax, park, wings, inspect, stairs, arrive, leave)\n",
        "        list_of_flights.append(flight)\n",
        "    return list_of_flights\n",
        "\n",
        "# Ordenar vuelos por deseabilidad\n",
        "def process_desirability(n):\n",
        "    return n.number_of_passengers / (n.leaving_time - n.arriving_time)\n",
        "\n",
        "# Ordenar gates por flujo\n",
        "def process_flow(n):\n",
        "    return n.number_of_persons_every_10m * n.potential_of_speed * 10 / n.distance\n",
        "\n",
        "# Inicializar población con únicos\n",
        "def init_population(pop_number, flights_to_assign, flights_pool, gates_pool):\n",
        "    population = []\n",
        "    for _ in range(pop_number):\n",
        "        flights = random.sample(flights_pool, flights_to_assign)\n",
        "        gates = random.sample(gates_pool, flights_to_assign)\n",
        "        population.append(Individual(flights, gates, flights_pool, gates_pool))\n",
        "    return population\n",
        "\n",
        "# Función fitness (eficiencia)\n",
        "def fitness(flights, gates):\n",
        "    grace = 0.05\n",
        "    eff = 0\n",
        "    for f, g in zip(flights, gates):\n",
        "        pax = f.number_of_passengers\n",
        "        if isinstance(g, Sleeve):\n",
        "            time_dis = (pax * (g.distance + f.length_wings) / process_flow(g)) + f.parking_time + f.inspection_time\n",
        "        else:\n",
        "            time_dis = (pax * g.distance / process_flow(g)) + f.parking_time + (f.landing_time_on_stairs * pax / f.maximum_capacity) + f.inspection_time\n",
        "        time_dis *= (1 + grace)\n",
        "        eff += pax / time_dis\n",
        "    return eff\n",
        "\n",
        "# Evaluar población\n",
        "def evaluate_population(population, fitness_fn):\n",
        "    for ind in population:\n",
        "        if ind.fitness == -1:\n",
        "            ind.fitness = fitness_fn(ind.flights, ind.gates)"
      ],
      "metadata": {
        "id": "P3H_tXCDXD7x"
      },
      "execution_count": null,
      "outputs": []
    },
    {
      "cell_type": "markdown",
      "source": [
        "# Paso 5: Funciones para Selección y AG\n",
        "\n",
        "* Funcs para elegir padres y el AG principal.\n",
        "  * Explicación: Selección elige \"ganadores\" para reproducir. AG es el loop: Inicia, cruza, muta, evalúa, repite.\n",
        "  * Por qué: Hace la \"evolución\". Usamos nuevos operadores."
      ],
      "metadata": {
        "id": "XsKIS8xjXMV4"
      }
    },
    {
      "cell_type": "code",
      "source": [
        "# Seleccionar padres (ruleta)\n",
        "def select_parents_roulette(population):\n",
        "    sum_fit = sum(ind.fitness for ind in population)\n",
        "    pick = uniform(0, sum_fit)\n",
        "    cum = 0\n",
        "    for i, ind in enumerate(population):\n",
        "        cum += ind.fitness\n",
        "        if cum > pick:\n",
        "            p1 = i\n",
        "            break\n",
        "    sum_fit -= population[p1].fitness\n",
        "    pick = uniform(0, sum_fit)\n",
        "    cum = 0\n",
        "    for i, ind in enumerate(population):\n",
        "        if i == p1: continue\n",
        "        cum += ind.fitness\n",
        "        if cum > pick:\n",
        "            p2 = i\n",
        "            break\n",
        "    return (population[p1], population[p2])\n",
        "\n",
        "# Seleccionar sobrevivientes (top por fitness)\n",
        "def select_survivors_ranking(pop, offspring, num):\n",
        "    combined = pop + offspring\n",
        "    return sorted(combined, key=lambda x: x.fitness, reverse=True)[:num]\n",
        "\n",
        "# Algoritmo Genético principal\n",
        "def genetic_algorithm(flights_pool, gates_pool, num_ind, flights_to_assign, fitness_fn, n_gens, selection_fn=\"roulette\", crossover=\"new\", mutation=\"mutate\", p_mut=0.2):\n",
        "    pop = init_population(num_ind, flights_to_assign, flights_pool, gates_pool)\n",
        "    evaluate_population(pop, fitness_fn)\n",
        "    best_ind = max(pop, key=lambda x: x.fitness)\n",
        "    bestfitness = [best_ind.fitness]\n",
        "    print(f\"Población inicial, mejor fitness = {best_ind.fitness}\")\n",
        "    for g in range(n_gens):\n",
        "        mating = [select_parents_roulette(pop) for _ in range(num_ind // 2)]\n",
        "        offspring = []\n",
        "        for p1, p2 in mating:\n",
        "            if crossover == \"new\":\n",
        "                offspring.extend(p1.crossover_new(p2))\n",
        "        for i in range(len(offspring)):\n",
        "            if uniform(0, 1) < p_mut:\n",
        "                if mutation == \"mutate\":\n",
        "                    offspring[i] = offspring[i].mutate()\n",
        "        evaluate_population(offspring, fitness_fn)\n",
        "        pop = select_survivors_ranking(pop, offspring, num_ind)\n",
        "        best_ind = max(pop, key=lambda x: x.fitness)\n",
        "        bestfitness.append(best_ind.fitness)\n",
        "        if g % 10 == 0:\n",
        "            print(f\"Generación {g}, mejor fitness = {best_ind.fitness}\")\n",
        "    return best_ind, bestfitness\n",
        "\n",
        "# Reporte de solución\n",
        "def make_solution_report(ind, selection_fn, crossover, mutation):\n",
        "    print(f\"Selección: {selection_fn} - Cruzamiento: {crossover} - Mutación: {mutation} - Fitness: {ind.fitness}\")\n",
        "    print(\" - \".join([f\"Vuelo {f.identifier} en {'Zone' if isinstance(g, Zone) else 'Sleeve'} {g.identifier}\" for f, g in zip(ind.flights, ind.gates)]))"
      ],
      "metadata": {
        "id": "9WmaeRUQXXSh"
      },
      "execution_count": null,
      "outputs": []
    },
    {
      "cell_type": "markdown",
      "source": [
        "# Paso 6: Prueba y Ejecución\n",
        "\n",
        "* Generamos 30 vuelos, 10 gates, corremos AG.\n",
        "  * Explicación: Fija seed para mismo resultado. Genera, ordena, corre AG, plotea, reporta.\n",
        "  * Por qué: Muestra que funciona."
      ],
      "metadata": {
        "id": "CyEVevidXfmX"
      }
    },
    {
      "cell_type": "code",
      "source": [
        "seed(0)  # Para resultados iguales siempre\n",
        "\n",
        "number_of_gates = 10  # Punto 4\n",
        "number_of_flights = 30  # Punto 4\n",
        "\n",
        "list_of_gates = generate_list_of_gates(number_of_gates)\n",
        "list_of_flights = generate_list_of_flights(number_of_flights)\n",
        "\n",
        "flights_to_assign = min(number_of_flights, number_of_gates)  # 10\n",
        "\n",
        "list_of_flights = sorted(list_of_flights, key=process_desirability, reverse=True)\n",
        "list_of_gates = sorted(list_of_gates, key=process_flow, reverse=True)\n",
        "\n",
        "num_ind = 50\n",
        "n_gens = 50\n",
        "selection_fn = \"roulette\"\n",
        "crossover = \"new\"\n",
        "mutation = \"mutate\"\n",
        "p_mut = 0.2\n",
        "\n",
        "best_ind, bestfitness = genetic_algorithm(list_of_flights, list_of_gates, num_ind, flights_to_assign, fitness, n_gens, selection_fn, crossover, mutation, p_mut)\n",
        "\n",
        "plt.plot(bestfitness)  # Gráfico evolución\n",
        "plt.xlabel(\"Generaciones\")\n",
        "plt.ylabel(\"Mejor Fitness\")\n",
        "plt.show()\n",
        "\n",
        "make_solution_report(best_ind, selection_fn, crossover, mutation)"
      ],
      "metadata": {
        "colab": {
          "base_uri": "https://localhost:8080/",
          "height": 617
        },
        "id": "thWF0XQXXnpf",
        "outputId": "c108e4dd-4299-4104-e6e2-5d72e4173fba"
      },
      "execution_count": null,
      "outputs": [
        {
          "output_type": "stream",
          "name": "stdout",
          "text": [
            "Población inicial, mejor fitness = 3.544561112646607\n",
            "Generación 0, mejor fitness = 3.553915949920479\n",
            "Generación 10, mejor fitness = 4.419279559726877\n",
            "Generación 20, mejor fitness = 4.766157283267974\n",
            "Generación 30, mejor fitness = 4.846160989264267\n",
            "Generación 40, mejor fitness = 4.892413686244389\n"
          ]
        },
        {
          "output_type": "display_data",
          "data": {
            "text/plain": [
              "<Figure size 640x480 with 1 Axes>"
            ],
            "image/png": "[encoded data removed]"
          },
          "metadata": {}
        },
        {
          "output_type": "stream",
          "name": "stdout",
          "text": [
            "Selección: roulette - Cruzamiento: new - Mutación: mutate - Fitness: 4.970246710412706\n",
            "Vuelo 6 en Sleeve 7 - Vuelo 3 en Zone 2 - Vuelo 25 en Sleeve 6 - Vuelo 16 en Sleeve 5 - Vuelo 28 en Zone 9 - Vuelo 7 en Sleeve 4 - Vuelo 9 en Sleeve 1 - Vuelo 18 en Sleeve 8 - Vuelo 10 en Sleeve 3 - Vuelo 13 en Zone 0\n"
          ]
        }
      ]
    },
    {
      "cell_type": "markdown",
      "source": [
        "* El código que creamos mejora problemas del original:\n",
        "  * Asegura que no haya duplicados en vuelos o gates (punto 1),\n",
        "  * hereda asignaciones \"buenas\" (punto 2),\n",
        "  * muta en niveles separados (punto 3),\n",
        "  * y genera 30 vuelos/10 gates (punto 4).\n",
        "  * Esta corrida muestra cómo funciona en la práctica – el AG \"aprendió\" a asignar mejor, subiendo la eficiencia de aprox. 3.5 a aprox. 5.0."
      ],
      "metadata": {
        "id": "VXtpwYR2Ye_o"
      }
    },
    {
      "cell_type": "markdown",
      "source": [
        "# 1. El Output de Texto: Cómo Evoluciona el Algoritmo\n",
        "\n",
        "El AG corre durante 50 generaciones, y cada cierto tiempo imprime cómo va el \"mejor puntaje\" (fitness, que mide eficiencia: cuántos pasajeros desembarcan por unidad de tiempo). Aquí va línea por línea:\n",
        "\n",
        "  * \"Población inicial, mejor fitness = 3.544561112646607\":\n",
        "    * Al empezar, el AG crea 50 \"soluciones candidatas\" (individuos) de forma random: Cada una asigna 10 vuelos únicos a 10 gates únicos (de los 30 vuelos y 10 gates generados).\n",
        "    * Calcula el fitness para todas. El mejor de esta población inicial tiene aprox. 3.54. Esto significa que, al azar, la eficiencia es baja – como personas que desembarcan pasajeros lentos (muchos delays por distancias, velocidades bajas, etc.).\n",
        "    * ¿Por qué no es 0? Porque usamos ordenamiento previo: Vuelos \"deseables\" (muchos pax en poco tiempo) y gates \"rápidos\" (alto flujo) se priorizan, dando un boost inicial.\n",
        "  * \"Generación 0, mejor fitness = 3.553915949920479\":\n",
        "    * En la primera ronda (gen 0), después de cruzar y mutar, el mejor sube un poquito a aprox. 3.55. Es una mejora mínima porque recién empieza la evolución.\n",
        "  * \"Generación 10, mejor fitness = 4.419279559726877\":\n",
        "    * Para la gen 10, el mejor ya está en aprox. 4.42. Aquí el AG \"aprendió\": Seleccionó buenos padres (con ruleta, favoreciendo altos fitness), cruzó (mezclando asignaciones flight-gate únicas), mutó (cambiando flights o gates sin repetir), y eligió top sobrevivientes. Las mutaciones y cruces exploran nuevas combinaciones, encontrando asignaciones más eficientes (ej: vuelos con muchos pax en gates rápidos).\n",
        "  * \"Generación 20, mejor fitness = 4.766157283267974\":\n",
        "    * En gen 20, aprox. 4.77. Sigue subiendo, pero más lento. El AG ya descartó malas ideas y refina las buenas.\n",
        "  * \"Generación 30, mejor fitness = 4.846160989264267\":\n",
        "    * Gen 30: aprox. 4.85. Mejora pequeña. Está \"convergiendo\" (acercándose al máximo posible) – el algoritmo encontró un buen equilibrio, pero aún hay espacio.\n",
        "  * \"Generación 40, mejor fitness = 4.892413686244389\":\n",
        "    * Gen 40: aprox. 4.89. Aún sube un poco. Aquí mutaciones ayudan a \"saltar\" estancamientos, cambiando flights/gates únicos.\n",
        "\n",
        "El algoritmo genético (AG) muestra mejoras cada 10 rondas o  generaciones para no llenar todo de mensajes, pero en realidad va mejorando en cada una. El puntaje final de eficiencia mide cuántos pasajeros bajan por unidad de tiempo, pasa de 3.54 a cerca de 4.97, ¡una mejora de más del 40%! Esto quiere decir que ahora hay menos esperas (delays) y se usan mejor las puertas (gates) del aeropuerto."
      ],
      "metadata": {
        "id": "1Ti5VLjWY2EA"
      }
    },
    {
      "cell_type": "markdown",
      "source": [
        "# 2. El Gráfico: La Curva de Mejora\n",
        "\n",
        "El gráfico es como un \"gráfico de progreso\" en un app de fitness: Muestra cómo sube el mejor puntaje con las generaciones.\n",
        "  * Eje X (horizontal): \"Generaciones\" (0 a 50):\n",
        "    * Cada punto es una ronda del AG. Empieza en 0 (inicial) y va hasta 50.\n",
        "  * Eje Y (vertical): \"Mejor Fitness\" (aprox. 3.8 a 5.0):\n",
        "    * El valor del mejor individuo por gen. Sube de aprox. 3.8 (inicial, pero en output es 3.54 – quizás ligera variación por seed) a aprox. 5.0.\n",
        "  * Forma de la curva:\n",
        "    * Subida brusca al inicio (gens 0-10): De aprox. 3.8 a aprox. 4.6. El AG elimina rápidas malas asignaciones y combina buenas.\n",
        "    * Subida más lenta con mesetas (gens 10-30): Sube a aprox. 4.8, pero con \"escalones\" (plano un rato, luego salta). Mesetas significan que está refinando – mutaciones ayudan a \"desatascar\".\n",
        "    * Estabilización final (gens 30-50): Plano en aprox. 4.9-5.0. Convergió: Encontró un óptimo.\n",
        "  * Qué significa: El AG funciona bien – mejora constante, no se atasca por siempre."
      ],
      "metadata": {
        "id": "sx_21IlqacPJ"
      }
    },
    {
      "cell_type": "markdown",
      "source": [
        "# 3. El Reporte Final: Configuración y Asignación Óptima\n",
        "Esto es el \"trofeo\" al final: Muestra parametross usados y la mejor solución encontrada.\n",
        "  * \"Selección: roulette - Cruzamiento: new - Mutación: mutate - Fitness: 4.970246710412706\":\n",
        "    * Selección: roulette: Elegimos padres como una ruleta – altos fitness tienen más chance, pero todos pueden ganar (diversidad).\n",
        "    * Cruzamiento: new: Nuestro fix: Mezcla flights/gates heredando pairs, asegurando no repeticiones.\n",
        "    * Mutación: mutate: Cambia flight o gate al azar, sin duplicados.\n",
        "    * Fitness: aprox. 4.97: Puntaje final – la eficiencia máxima encontrada. Mejor que inicial (3.54), significa aprox. 40% más pasajeros desembarcados por tiempo.\n",
        "  * Asignación: \"Vuelo 6 en Sleeve 7 - Vuelo 3 en Zone 2 - Vuelo 25 en Sleeve 6 - Vuelo 16 en Sleeve 5 - Vuelo 28 en Zone 9 - Vuelo 7 en Sleeve 4 - Vuelo 9 en Sleeve 1 - Vuelo 18 en Sleeve 8 - Vuelo 10 en Sleeve 3 - Vuelo 13 en Zone 0\":\n",
        "    * Esta es la \"solución ganadora\": 10 vuelos únicos asignados a 10 gates únicos (sin reps, gracias a nuestros fixes).\n",
        "    * Ejemplos:\n",
        "      * \"Vuelo 6 en Sleeve 7\": Vuelo 6 (quizá con muchos pax) en una manga (Sleeve) ID 7 (rápida, por ordenamiento).\n",
        "      * \"Vuelo 3 en Zone 2\": Vuelo 3 en zona remota (Zone) ID 2 – quizás para aviones grandes, usando bus.\n",
        "    * ¿Por qué esta? El AG evolucionó para maximizar eff: Asigna vuelos deseables (altos pax/bajo tiempo) a gates de alto flujo (rápidos/capacidad alta). No hay duplicados (ej: Zone 2 solo una vez) – nuestro crossover/mutate lo aseguran.\n",
        "   "
      ],
      "metadata": {
        "id": "5dHq0MMPbDMl"
      }
    },
    {
      "cell_type": "markdown",
      "source": [
        "# 4. Conclusión: Qué Significa Todo y Sugerencias\n",
        "\n",
        "  * Resumen: El AG empezó con eff baja (aprox. 3.54, random), evolucionó en 50 gens a aprox. 4.97 (mejora grande). El gráfico muestra progreso típico: Rápido al inicio, estable al final. La solución final es una asignación óptima sin reps, heredando buenos pairs flight-gate, y mutando en dos niveles (flights/gates).\n",
        "  * Por qué es bueno: Fixeamos bugs del base – ahora es realista para aeropuertos. En exposición: \"Como en la evolución natural, el AG 'selecciona' lo mejor, 'mezcla' ideas y 'muta' para innovar, llegando a eff alta\".\n",
        "  * Sugerencias para mejorar:\n",
        "    * Sube generaciones (a 100) si quieres más eff.\n",
        "    * Añade penalización en fitness por solapamientos (si leaving de uno < arriving de otro en mismo gate, baja eff).\n",
        "    * Prueba otros params: Cambia crossover a \"uniform\" (base) y ve si reps vuelven.\n",
        "    * Corre sin seed(0) para variety – cada run diferente."
      ],
      "metadata": {
        "id": "GNU0vIzpb0c2"
      }
    },
    {
      "cell_type": "markdown",
      "source": [
        "# Punto 5. Con los flights y gates generados en el punto 4, elaborar experimentos para evaluar el AG con los operadores implementados (deshabilitar mutación para ello) y luego con la mutación habilitada a diferentes tasas de mutación. Para cada configuración a evaluar se debe hacer al menos 10 corridas para sacar conclusiones estadísticamente válidas. Comparar contra la implementación del código base\n"
      ],
      "metadata": {
        "id": "r_VLsvVncPyo"
      }
    },
    {
      "cell_type": "markdown",
      "source": [
        "# Experimentando con el Algoritmo Genético (AG) – Evaluando Operadores y Mutación"
      ],
      "metadata": {
        "id": "SZWiKZNwf5kc"
      }
    },
    {
      "cell_type": "markdown",
      "source": [
        "* En los puntos anteriores creamos un AG mejorado que asigna vuelos únicos a gates únicos, sin repetidos (como no poner dos aviones en el mismo parking).\n",
        "* Ahora, en el punto 5, vamos a \"probar\" cómo funciona este AG en diferentes \"modos\":\n",
        "  * Primero sin mutación (para ver solo el efecto de cruzamiento y selección),\n",
        "  * luego con mutación activada a diferentes \"niveles\" (tasas como 0.1, 0.2, 0.5 – cuánto podemos agregar para cambiar cosas al azar).\n",
        "  * Hacemos al menos 10 \"partidas\" (corridas) por modo para que los resultados sean confiables.\n",
        "  * Al final, comparamos con el \"código base\" (que permite repetidos y es menos realista)."
      ],
      "metadata": {
        "id": "FmMomOh2f4rY"
      }
    },
    {
      "cell_type": "markdown",
      "source": [
        "**¿Qué Vamos a Hacer y Por Qué? (La Estrategia del Experimento)**\n",
        "\n",
        "  * Objetivo: Ver si nuestros nuevos operadores (cruzamiento y mutación que evitan repetidos) funcionan bien, y cómo la mutación ayuda (o no) a mejorar el puntaje del fitness.\n",
        "  * Modos a probar:\n",
        "    1. Sin mutación (p_mut=0): Deshabilitamos cambios al azar – solo cruzamiento y selección. ¿Sube el fitness? ¿Se atasca?\n",
        "    2. Con mutación a tasas diferentes (0.1, 0.2, 0.5): Baja (0.1 = 10% chance de mutar), media (0.2), alta (0.5). ¿Más mutación = mejor exploración (salta \"trampas\") o peor (demasiado caos)?\n",
        "    3. Comparar con base: El primer AG base (permite reps) – ¿Parece mejor pero funciona?\n",
        "  * Por qué 10 corridas: Porque random hace que cada run sea diferente. Promediamos para \"estadísticas válidas\".\n",
        "  * Métricas: Para cada modo, calculamos promedio y desviación estándar (std – cuánto varía) del fitness final (después de 50 gens). Alto avg = bueno; bajo std = consistente.\n",
        "  * Config base: 50 individuos, 50 gens, ruleta, nuestro crossover/mutate. Usamos mismos 30 flights/10 gates (punto 4).\n",
        "\n"
      ],
      "metadata": {
        "id": "KzDkgLSygo-w"
      }
    },
    {
      "cell_type": "markdown",
      "source": [
        "# Paso 5.1: Importar Librerías"
      ],
      "metadata": {
        "id": "Vj9Q-kv8jBf3"
      }
    },
    {
      "cell_type": "code",
      "source": [
        "import sys\n",
        "import time\n",
        "import numpy as np\n",
        "import random\n",
        "from random import seed, randint, sample, uniform, randrange\n",
        "from copy import deepcopy\n",
        "import matplotlib.pyplot as plt\n",
        "from statistics import mean  # Para promedios fáciles\n",
        "from collections import Counter  # Fix: Para contar duplicados en gates"
      ],
      "metadata": {
        "id": "FpZDa_29jJoc"
      },
      "execution_count": null,
      "outputs": []
    },
    {
      "cell_type": "markdown",
      "source": [
        "# Paso 5.2: Definir Clases y Funcs del Código Mejorado (nuestro AG mejorado)\n",
        "\n",
        "* Explicación: Aquí incluimos todo lo necesario: Las clases Gate, Flight e Individual (cada solución del juego, con nuevas formas de mezclar y cambiar), las funciones para crear listas (generate_lists), para ordenar por deseabilidad (process_desirability) y flujo (process_flow), para empezar la población (init_pop), calcular la puntuación (fitness), evaluar a los individuos (evaluate_pop), elegir padres para reproducirse (select_parents_roulette), seleccionar sobrevivientes (select_survivors_ranking), el algoritmo principal (genetic_algorithm), y un reporte de solución (make_solution_report). No dejamos nada por fuera – todo está aquí explicado paso a paso."
      ],
      "metadata": {
        "id": "E0BuDWYZkZT-"
      }
    },
    {
      "cell_type": "code",
      "source": [
        "# Clases para Gates y Flights\n",
        "class Gate(object):\n",
        "    def __init__(self, identifier, x, y, z):\n",
        "        self.identifier = identifier\n",
        "        self.distance = x\n",
        "        self.potential_of_speed = y\n",
        "        self.number_of_persons_every_10m = z\n",
        "\n",
        "    def __hash__(self):\n",
        "        return self.identifier\n",
        "\n",
        "class Sleeve(Gate):\n",
        "    def __init__(self, identifier, length_of_sleeve, speed_of_passengers_on_sleeve, number_of_passengers_every_10m):\n",
        "        super().__init__(identifier, length_of_sleeve, speed_of_passengers_on_sleeve, number_of_passengers_every_10m)\n",
        "\n",
        "class Zone(Gate):\n",
        "    def __init__(self, identifier, distance_zone_door, speed_bus, capacity_of_bus):\n",
        "        super().__init__(identifier, distance_zone_door, speed_bus, capacity_of_bus)\n",
        "\n",
        "class Flight(object):\n",
        "    def __init__(self, identifier, maximum_capacity, number_of_passengers, parking_time, length_wings, inspection_time, landing_time_on_stairs, arriving_time, leaving_time):\n",
        "        self.identifier = identifier\n",
        "        self.maximum_capacity = maximum_capacity\n",
        "        self.number_of_passengers = number_of_passengers\n",
        "        self.parking_time = parking_time\n",
        "        self.length_wings = length_wings\n",
        "        self.inspection_time = inspection_time\n",
        "        self.landing_time_on_stairs = landing_time_on_stairs\n",
        "        self.arriving_time = arriving_time\n",
        "        self.leaving_time = leaving_time\n",
        "\n",
        "    def __hash__(self):\n",
        "        return self.identifier\n",
        "\n",
        "# Clase Individual con nuevos operadores\n",
        "class Individual(object):\n",
        "    def __init__(self, flights, gates, flights_pool, gates_pool):\n",
        "        self.flights = flights[:]\n",
        "        self.gates = gates[:]\n",
        "        self.flights_pool = flights_pool\n",
        "        self.gates_pool = gates_pool\n",
        "        self.fitness = -1\n",
        "\n",
        "    def crossover_new(self, other):\n",
        "        all_flights = list(set(self.flights + other.flights))\n",
        "        k = len(self.flights)\n",
        "        child1_flights = random.sample(all_flights, min(k, len(all_flights)))\n",
        "        child1_gates = []\n",
        "        for f in child1_flights:\n",
        "            if f in self.flights:\n",
        "                gate = self.gates[self.flights.index(f)]\n",
        "            elif f in other.flights:\n",
        "                gate = other.gates[other.flights.index(f)]\n",
        "            else:\n",
        "                gate = random.choice(self.gates_pool)\n",
        "            child1_gates.append(gate)\n",
        "        child1_gates = self.resolve_duplicate_gates(child1_gates)\n",
        "        ind1 = Individual(child1_flights, child1_gates, self.flights_pool, self.gates_pool)\n",
        "\n",
        "        child2_flights = random.sample(all_flights, min(k, len(all_flights)))\n",
        "        child2_gates = []\n",
        "        for f in child2_flights:\n",
        "            if f in other.flights:\n",
        "                gate = other.gates[other.flights.index(f)]\n",
        "            elif f in self.flights:\n",
        "                gate = self.gates[self.flights.index(f)]\n",
        "            else:\n",
        "                gate = random.choice(self.gates_pool)\n",
        "            child2_gates.append(gate)\n",
        "        child2_gates = self.resolve_duplicate_gates(child2_gates)\n",
        "        ind2 = Individual(child2_flights, child2_gates, self.flights_pool, self.gates_pool)\n",
        "        return [ind1, ind2]\n",
        "\n",
        "    def resolve_duplicate_gates(self, gates):\n",
        "        count = Counter(gates)\n",
        "        if len(count) == len(gates):\n",
        "            return gates\n",
        "        seen = set()\n",
        "        new_gates = gates.copy()\n",
        "        for idx, g in enumerate(new_gates):\n",
        "            if g in seen:\n",
        "                available = [gg for gg in self.gates_pool if gg not in seen]\n",
        "                if available:\n",
        "                    new_gates[idx] = random.choice(available)\n",
        "                else:\n",
        "                    swap_idx = random.randrange(len(new_gates))\n",
        "                    while new_gates[swap_idx] == g:\n",
        "                        swap_idx = random.randrange(len(new_gates))\n",
        "                    new_gates[idx], new_gates[swap_idx] = new_gates[swap_idx], new_gates[idx]\n",
        "            seen.add(new_gates[idx])\n",
        "        return new_gates\n",
        "\n",
        "    def mutate(self):\n",
        "        mutated_flights = self.flights.copy()\n",
        "        mutated_gates = self.gates.copy()\n",
        "        if random.random() < 0.5:\n",
        "            index = random.randrange(len(mutated_flights))\n",
        "            available_flights = [f for f in self.flights_pool if f not in mutated_flights]\n",
        "            if available_flights:\n",
        "                mutated_flights[index] = random.choice(available_flights)\n",
        "        else:\n",
        "            index = random.randrange(len(mutated_gates))\n",
        "            available_gates = [g for g in self.gates_pool if g not in mutated_gates]\n",
        "            if available_gates:\n",
        "                mutated_gates[index] = random.choice(available_gates)\n",
        "            else:\n",
        "                i1, i2 = random.sample(range(len(mutated_gates)), 2)\n",
        "                mutated_gates[i1], mutated_gates[i2] = mutated_gates[i2], mutated_gates[i1]\n",
        "        return Individual(mutated_flights, mutated_gates, self.flights_pool, self.gates_pool)\n",
        "\n",
        "# Funcs utilitarias\n",
        "def generate_list_of_gates(number_of_gates, max_length_of_sleeve=20, max_speed_of_passengers_on_sleeve=3, max_number_of_passengers_every_10m=12, max_distance_zone_door=50, max_speed_bus=15, max_capacity_of_bus=200):\n",
        "    list_of_gates = []\n",
        "    for gate_identifier in range(number_of_gates):\n",
        "        gate_type = randint(0, 1)\n",
        "        if gate_type == 0:\n",
        "            distance = randint(1, max_length_of_sleeve)\n",
        "            speed = randint(1, max_speed_of_passengers_on_sleeve)\n",
        "            capacity = randint(1, max_number_of_passengers_every_10m)\n",
        "            gate = Sleeve(gate_identifier, distance, speed, capacity)\n",
        "        else:\n",
        "            distance = randint(1, max_distance_zone_door)\n",
        "            speed = randint(1, max_speed_bus)\n",
        "            capacity = randint(1, max_capacity_of_bus)\n",
        "            gate = Zone(gate_identifier, distance, speed, capacity)\n",
        "        list_of_gates.append(gate)\n",
        "    return list_of_gates\n",
        "\n",
        "def generate_list_of_flights(number_of_flights, max_maximum_capacity=100, max_number_of_passengers_factor=0.8, max_parking_time=30, max_length_wings=25, max_inspection_time=180, max_landing_time_on_stairs=60, max_arriving_time=200, max_leaving_time=1000):\n",
        "    list_of_flights = []\n",
        "    max_pax = int(max_number_of_passengers_factor * max_maximum_capacity)\n",
        "    for id in range(number_of_flights):\n",
        "        cap = randint(max_pax, max_maximum_capacity)\n",
        "        pax = randint(1, max_pax)\n",
        "        park = randint(1, max_parking_time)\n",
        "        wings = randint(1, max_length_wings)\n",
        "        inspect = randint(1, max_inspection_time)\n",
        "        stairs = randint(1, max_landing_time_on_stairs)\n",
        "        arrive = randint(1, max_arriving_time)\n",
        "        leave = randint(max_arriving_time + 1, max_leaving_time)\n",
        "        flight = Flight(id, cap, pax, park, wings, inspect, stairs, arrive, leave)\n",
        "        list_of_flights.append(flight)\n",
        "    return list_of_flights\n",
        "\n",
        "def process_desirability(n):\n",
        "    return n.number_of_passengers / (n.leaving_time - n.arriving_time)\n",
        "\n",
        "def process_flow(n):\n",
        "    return n.number_of_persons_every_10m * n.potential_of_speed * 10 / n.distance\n",
        "\n",
        "def init_population(pop_number, flights_to_assign, flights_pool, gates_pool):\n",
        "    population = []\n",
        "    for _ in range(pop_number):\n",
        "        flights = random.sample(flights_pool, flights_to_assign)\n",
        "        gates = random.sample(gates_pool, flights_to_assign)\n",
        "        population.append(Individual(flights, gates, flights_pool, gates_pool))\n",
        "    return population\n",
        "\n",
        "def fitness(flights, gates):\n",
        "    grace = 0.05\n",
        "    eff = 0\n",
        "    for f, g in zip(flights, gates):\n",
        "        pax = f.number_of_passengers\n",
        "        if isinstance(g, Sleeve):\n",
        "            time_dis = (pax * (g.distance + f.length_wings) / process_flow(g)) + f.parking_time + f.inspection_time\n",
        "        else:\n",
        "            time_dis = (pax * g.distance / process_flow(g)) + f.parking_time + (f.landing_time_on_stairs * pax / f.maximum_capacity) + f.inspection_time\n",
        "        time_dis *= (1 + grace)\n",
        "        eff += pax / time_dis\n",
        "    return eff\n",
        "\n",
        "def evaluate_population(population, fitness_fn):\n",
        "    for ind in population:\n",
        "        if ind.fitness == -1:\n",
        "            ind.fitness = fitness_fn(ind.flights, ind.gates)\n",
        "\n",
        "def select_parents_roulette(population):\n",
        "    sum_fit = sum(ind.fitness for ind in population)\n",
        "    pick = uniform(0, sum_fit)\n",
        "    cum = 0\n",
        "    for i, ind in enumerate(population):\n",
        "        cum += ind.fitness\n",
        "        if cum > pick:\n",
        "            p1 = i\n",
        "            break\n",
        "    sum_fit -= population[p1].fitness\n",
        "    pick = uniform(0, sum_fit)\n",
        "    cum = 0\n",
        "    for i, ind in enumerate(population):\n",
        "        if i == p1: continue\n",
        "        cum += ind.fitness\n",
        "        if cum > pick:\n",
        "            p2 = i\n",
        "            break\n",
        "    return (population[p1], population[p2])\n",
        "\n",
        "def select_survivors_ranking(pop, offspring, num):\n",
        "    combined = pop + offspring\n",
        "    return sorted(combined, key=lambda x: x.fitness, reverse=True)[:num]\n",
        "\n",
        "def genetic_algorithm(flights_pool, gates_pool, num_ind, flights_to_assign, fitness_fn, n_gens, selection_fn=\"roulette\", crossover=\"new\", mutation=\"mutate\", p_mut=0.2):\n",
        "    pop = init_population(num_ind, flights_to_assign, flights_pool, gates_pool)\n",
        "    evaluate_population(pop, fitness_fn)\n",
        "    best_ind = max(pop, key=lambda x: x.fitness)\n",
        "    bestfitness = [best_ind.fitness]\n",
        "    print(f\"Población inicial, mejor fitness = {best_ind.fitness}\")\n",
        "    for g in range(n_gens):\n",
        "        mating = [select_parents_roulette(pop) for _ in range(num_ind // 2)]\n",
        "        offspring = []\n",
        "        for p1, p2 in mating:\n",
        "            if crossover == \"new\":\n",
        "                offspring.extend(p1.crossover_new(p2))\n",
        "        for i in range(len(offspring)):\n",
        "            if uniform(0, 1) < p_mut:\n",
        "                if mutation == \"mutate\":\n",
        "                    offspring[i] = offspring[i].mutate()\n",
        "        evaluate_population(offspring, fitness_fn)\n",
        "        pop = select_survivors_ranking(pop, offspring, num_ind)\n",
        "        best_ind = max(pop, key=lambda x: x.fitness)\n",
        "        bestfitness.append(best_ind.fitness)\n",
        "        if g % 10 == 0:\n",
        "            print(f\"Generación {g}, mejor fitness = {best_ind.fitness}\")\n",
        "    return best_ind, bestfitness\n",
        "\n",
        "def make_solution_report(ind, selection_fn, crossover, mutation):\n",
        "    print(f\"Selección: {selection_fn} - Cruzamiento: {crossover} - Mutación: {mutation} - Fitness: {ind.fitness}\")\n",
        "    print(\" - \".join([f\"Vuelo {f.identifier} en {'Zone' if isinstance(g, Zone) else 'Sleeve'} {g.identifier}\" for f, g in zip(ind.flights, ind.gates)]))"
      ],
      "metadata": {
        "id": "DLCCULrPmKhH"
      },
      "execution_count": null,
      "outputs": []
    },
    {
      "cell_type": "markdown",
      "source": [
        "# Paso 5.3: Recrear Código Base para Comparación (full, con sus funcs)\n",
        "\n",
        "* Explicación: La versión antigua del código tiene errores (bugs, fallos que lo hacen funcionar mal). Incluyo IndividualBase (una plantilla para crear soluciones candidatas), init_base (una función para empezar con soluciones iniciales), y AG_base (el algoritmo genético principal de la versión vieja) para compararla con la nueva."
      ],
      "metadata": {
        "id": "_w5a9kuimbjU"
      }
    },
    {
      "cell_type": "code",
      "source": [
        "class IndividualBase(object):\n",
        "    def __init__(self, flights, gates, flights_pool, gates_pool):\n",
        "        self.flights = flights[:]\n",
        "        self.gates = gates[:]\n",
        "        self.flights_pool = flights_pool\n",
        "        self.gates_pool = gates_pool\n",
        "        self.fitness = -1\n",
        "\n",
        "    def crossover_uniform(self, other):\n",
        "        gates1 = []\n",
        "        gates2 = []\n",
        "        for i in range(len(self.gates)):\n",
        "            if uniform(0, 1) < 0.5:\n",
        "                gates1.append(self.gates[i])\n",
        "                gates2.append(other.gates[i])\n",
        "            else:\n",
        "                gates1.append(other.gates[i])\n",
        "                gates2.append(self.gates[i])\n",
        "        return [IndividualBase(self.flights, gates1, self.flights_pool, self.gates_pool), IndividualBase(self.flights, gates2, self.flights_pool, self.gates_pool)]\n",
        "\n",
        "    def mutate_position(self):\n",
        "        mutated_gates = deepcopy(self.gates)\n",
        "        index = randrange(len(mutated_gates))\n",
        "        new_gate = random.choice(self.gates_pool)\n",
        "        mutated_gates[index] = new_gate\n",
        "        return IndividualBase(self.flights, mutated_gates, self.flights_pool, self.gates_pool)\n",
        "\n",
        "def init_population_base(pop_number, flights_to_assign, flights_pool, gates_pool):\n",
        "    pop = []\n",
        "    for _ in range(pop_number):\n",
        "        flights = random.sample(flights_pool, flights_to_assign)\n",
        "        gates = [random.choice(gates_pool) for _ in range(flights_to_assign)]  # Permite reps\n",
        "        pop.append(IndividualBase(flights, gates, flights_pool, gates_pool))\n",
        "    return pop\n",
        "\n",
        "def genetic_algorithm_base(flights_pool, gates_pool, num_ind, flights_to_assign, fitness_fn, n_gens, crossover=\"uniform\", p_mut=0.2):\n",
        "    pop = init_population_base(num_ind, flights_to_assign, flights_pool, gates_pool)\n",
        "    evaluate_population(pop, fitness_fn)\n",
        "    best_ind = max(pop, key=lambda x: x.fitness)\n",
        "    bestfitness = [best_ind.fitness]\n",
        "    for g in range(n_gens):\n",
        "        mating = [select_parents_roulette(pop) for _ in range(num_ind // 2)]\n",
        "        offspring = []\n",
        "        for p1, p2 in mating:\n",
        "            if crossover == \"uniform\":\n",
        "                offspring.extend(p1.crossover_uniform(p2))\n",
        "        for i in range(len(offspring)):\n",
        "            if uniform(0, 1) < p_mut:\n",
        "                offspring[i] = offspring[i].mutate_position()\n",
        "        evaluate_population(offspring, fitness_fn)\n",
        "        pop = select_survivors_ranking(pop, offspring, num_ind)\n",
        "        best_ind = max(pop, key=lambda x: x.fitness)\n",
        "        bestfitness.append(best_ind.fitness)\n",
        "    return best_ind, bestfitness"
      ],
      "metadata": {
        "id": "XqWZWIVAmg9P"
      },
      "execution_count": null,
      "outputs": []
    },
    {
      "cell_type": "markdown",
      "source": [
        "# Paso 5.4: Función para Experimentos (tester)\n",
        "\n",
        "Explicación: Run_experiment corre AG 10 veces, promedia final fitness e history."
      ],
      "metadata": {
        "id": "Hdr90azBmnqM"
      }
    },
    {
      "cell_type": "code",
      "source": [
        "def run_experiment(ag_func, flights_pool, gates_pool, num_ind, flights_to_assign, fitness_fn, n_gens, p_mut, num_runs=10):\n",
        "    final_fitnesses = []\n",
        "    all_histories = []\n",
        "    for run in range(num_runs):\n",
        "        _, history = ag_func(flights_pool, gates_pool, num_ind, flights_to_assign, fitness_fn, n_gens, p_mut=p_mut)\n",
        "        final_fitnesses.append(history[-1])\n",
        "        all_histories.append(history)\n",
        "    avg_final = mean(final_fitnesses)\n",
        "    avg_history = [mean([h[i] for h in all_histories]) for i in range(len(all_histories[0]))]\n",
        "    return avg_final, avg_history"
      ],
      "metadata": {
        "id": "vVHBXJKHmsMT"
      },
      "execution_count": null,
      "outputs": []
    },
    {
      "cell_type": "markdown",
      "source": [
        "# Paso 5.5: Generar Data y Correr Experimentos (el run full)\n",
        "\n",
        "Explicación: Genera 30 flights/10 gates. Corre 5 experiments (sin mut, mut 0.1/0.2/0.5, base), 10 runs cada uno. Plotea avg curves."
      ],
      "metadata": {
        "id": "VdM3q3BkmvVD"
      }
    },
    {
      "cell_type": "code",
      "source": [
        "number_of_gates = 10\n",
        "number_of_flights = 30\n",
        "list_of_gates = generate_list_of_gates(number_of_gates)\n",
        "list_of_flights = generate_list_of_flights(number_of_flights)\n",
        "flights_to_assign = 10\n",
        "list_of_flights = sorted(list_of_flights, key=process_desirability, reverse=True)\n",
        "list_of_gates = sorted(list_of_gates, key=process_flow, reverse=True)\n",
        "\n",
        "num_ind = 50\n",
        "n_gens = 50\n",
        "\n",
        "# Experimentos\n",
        "avg_no_mut, hist_no_mut = run_experiment(genetic_algorithm, list_of_flights, list_of_gates, num_ind, flights_to_assign, fitness, n_gens, p_mut=0)\n",
        "print(f\"Avg final sin mut: {avg_no_mut}\")\n",
        "\n",
        "avg_mut01, hist_mut01 = run_experiment(genetic_algorithm, list_of_flights, list_of_gates, num_ind, flights_to_assign, fitness, n_gens, p_mut=0.1)\n",
        "print(f\"Avg final mut 0.1: {avg_mut01}\")\n",
        "\n",
        "avg_mut02, hist_mut02 = run_experiment(genetic_algorithm, list_of_flights, list_of_gates, num_ind, flights_to_assign, fitness, n_gens, p_mut=0.2)\n",
        "print(f\"Avg final mut 0.2: {avg_mut02}\")\n",
        "\n",
        "avg_mut05, hist_mut05 = run_experiment(genetic_algorithm, list_of_flights, list_of_gates, num_ind, flights_to_assign, fitness, n_gens, p_mut=0.5)\n",
        "print(f\"Avg final mut 0.5: {avg_mut05}\")\n",
        "\n",
        "avg_base, hist_base = run_experiment(genetic_algorithm_base, list_of_flights, list_of_gates, num_ind, flights_to_assign, fitness, n_gens, p_mut=0.2)\n",
        "print(f\"Avg final base: {avg_base}\")\n",
        "\n",
        "# Plot\n",
        "plt.plot(hist_no_mut, label=\"Sin mut\")\n",
        "plt.plot(hist_mut01, label=\"Mut 0.1\")\n",
        "plt.plot(hist_mut02, label=\"Mut 0.2\")\n",
        "plt.plot(hist_mut05, label=\"Mut 0.5\")\n",
        "plt.plot(hist_base, label=\"Base\")\n",
        "plt.xlabel(\"Generaciones\")\n",
        "plt.ylabel(\"Avg Mejor Fitness\")\n",
        "plt.legend()\n",
        "plt.show()"
      ],
      "metadata": {
        "colab": {
          "base_uri": "https://localhost:8080/",
          "height": 1000
        },
        "id": "CMQi-xCImzgO",
        "outputId": "2b83da04-b0d7-4881-81e3-c57e19d7cb85"
      },
      "execution_count": null,
      "outputs": [
        {
          "output_type": "stream",
          "name": "stdout",
          "text": [
            "Población inicial, mejor fitness = 5.5349189470936775\n",
            "Generación 0, mejor fitness = 5.5349189470936775\n",
            "Generación 10, mejor fitness = 7.085380899179933\n",
            "Generación 20, mejor fitness = 7.3622859408624794\n",
            "Generación 30, mejor fitness = 7.5244903062245285\n",
            "Generación 40, mejor fitness = 7.711782944060251\n",
            "Población inicial, mejor fitness = 5.812490399804115\n",
            "Generación 0, mejor fitness = 6.001361982093088\n",
            "Generación 10, mejor fitness = 6.836448303070892\n",
            "Generación 20, mejor fitness = 7.132158303511281\n",
            "Generación 30, mejor fitness = 7.515708917346293\n",
            "Generación 40, mejor fitness = 7.694061764379906\n",
            "Población inicial, mejor fitness = 5.441319553459101\n",
            "Generación 0, mejor fitness = 5.542463190979994\n",
            "Generación 10, mejor fitness = 7.000328574570925\n",
            "Generación 20, mejor fitness = 7.461807249644873\n",
            "Generación 30, mejor fitness = 7.724151447113148\n",
            "Generación 40, mejor fitness = 7.886325744894663\n",
            "Población inicial, mejor fitness = 5.219226189658567\n",
            "Generación 0, mejor fitness = 5.219226189658567\n",
            "Generación 10, mejor fitness = 7.295103119374357\n",
            "Generación 20, mejor fitness = 7.444506088242425\n",
            "Generación 30, mejor fitness = 7.6329943839727825\n",
            "Generación 40, mejor fitness = 7.732065766880237\n",
            "Población inicial, mejor fitness = 5.3207280739492635\n",
            "Generación 0, mejor fitness = 5.3207280739492635\n",
            "Generación 10, mejor fitness = 7.128029847099408\n",
            "Generación 20, mejor fitness = 7.417019660822141\n",
            "Generación 30, mejor fitness = 7.662168836834013\n",
            "Generación 40, mejor fitness = 7.7459440019883115\n",
            "Población inicial, mejor fitness = 5.8591125834374775\n",
            "Generación 0, mejor fitness = 6.6433793553023825\n",
            "Generación 10, mejor fitness = 6.956849678329944\n",
            "Generación 20, mejor fitness = 7.413128235964202\n",
            "Generación 30, mejor fitness = 7.602674865528747\n",
            "Generación 40, mejor fitness = 7.848163295314546\n",
            "Población inicial, mejor fitness = 6.099657947437548\n",
            "Generación 0, mejor fitness = 6.099657947437548\n",
            "Generación 10, mejor fitness = 7.039178981752615\n",
            "Generación 20, mejor fitness = 7.452311084417518\n",
            "Generación 30, mejor fitness = 7.707145818004627\n",
            "Generación 40, mejor fitness = 7.884201213128179\n",
            "Población inicial, mejor fitness = 5.650795179727169\n",
            "Generación 0, mejor fitness = 5.650795179727169\n",
            "Generación 10, mejor fitness = 7.0445286461210355\n",
            "Generación 20, mejor fitness = 7.398254058457472\n",
            "Generación 30, mejor fitness = 7.581903385223236\n",
            "Generación 40, mejor fitness = 7.820674894144667\n",
            "Población inicial, mejor fitness = 5.863630929996861\n",
            "Generación 0, mejor fitness = 5.863630929996861\n",
            "Generación 10, mejor fitness = 6.892326626750444\n",
            "Generación 20, mejor fitness = 7.249179552501442\n",
            "Generación 30, mejor fitness = 7.465050792525543\n",
            "Generación 40, mejor fitness = 7.668755350945134\n",
            "Población inicial, mejor fitness = 5.80318079585988\n",
            "Generación 0, mejor fitness = 5.819809143793362\n",
            "Generación 10, mejor fitness = 7.007384994291081\n",
            "Generación 20, mejor fitness = 7.391679102455039\n",
            "Generación 30, mejor fitness = 7.449179070833825\n",
            "Generación 40, mejor fitness = 7.4723440717806655\n",
            "Avg final sin mut: 7.839289059980199\n",
            "Población inicial, mejor fitness = 4.982642405484069\n",
            "Generación 0, mejor fitness = 4.982642405484069\n",
            "Generación 10, mejor fitness = 6.913738495984895\n",
            "Generación 20, mejor fitness = 7.113233683755537\n",
            "Generación 30, mejor fitness = 7.4352378832667405\n",
            "Generación 40, mejor fitness = 7.537342828617827\n",
            "Población inicial, mejor fitness = 5.380524190409369\n",
            "Generación 0, mejor fitness = 5.601555925359404\n",
            "Generación 10, mejor fitness = 7.1615933688061215\n",
            "Generación 20, mejor fitness = 7.3492205120785234\n",
            "Generación 30, mejor fitness = 7.4898970512449115\n",
            "Generación 40, mejor fitness = 7.837366837879999\n",
            "Población inicial, mejor fitness = 5.349666637958179\n",
            "Generación 0, mejor fitness = 5.504162249003322\n",
            "Generación 10, mejor fitness = 6.7192394264480075\n",
            "Generación 20, mejor fitness = 7.392175241641288\n",
            "Generación 30, mejor fitness = 7.601194212333334\n",
            "Generación 40, mejor fitness = 7.735188316735495\n",
            "Población inicial, mejor fitness = 5.422087023283094\n",
            "Generación 0, mejor fitness = 5.428482985142758\n",
            "Generación 10, mejor fitness = 6.695437612566302\n",
            "Generación 20, mejor fitness = 7.221994614830967\n",
            "Generación 30, mejor fitness = 7.682539743095806\n",
            "Generación 40, mejor fitness = 7.779450261846043\n",
            "Población inicial, mejor fitness = 4.8996728576951964\n",
            "Generación 0, mejor fitness = 6.141372718589057\n",
            "Generación 10, mejor fitness = 7.235589608697811\n",
            "Generación 20, mejor fitness = 7.520779619325472\n",
            "Generación 30, mejor fitness = 7.660112659983042\n",
            "Generación 40, mejor fitness = 7.788696237406081\n",
            "Población inicial, mejor fitness = 5.590748616824\n",
            "Generación 0, mejor fitness = 5.590748616824\n",
            "Generación 10, mejor fitness = 6.727643183462289\n",
            "Generación 20, mejor fitness = 7.147603697762783\n",
            "Generación 30, mejor fitness = 7.63217409834646\n",
            "Generación 40, mejor fitness = 7.6789738574374145\n",
            "Población inicial, mejor fitness = 5.152817790684827\n",
            "Generación 0, mejor fitness = 5.152817790684827\n",
            "Generación 10, mejor fitness = 7.227730174567468\n",
            "Generación 20, mejor fitness = 7.557689830752143\n",
            "Generación 30, mejor fitness = 7.712541322358483\n",
            "Generación 40, mejor fitness = 7.805881709187841\n",
            "Población inicial, mejor fitness = 5.006909418477017\n",
            "Generación 0, mejor fitness = 6.007833356866677\n",
            "Generación 10, mejor fitness = 7.087202829391718\n",
            "Generación 20, mejor fitness = 7.561592317580441\n",
            "Generación 30, mejor fitness = 7.561592317580441\n",
            "Generación 40, mejor fitness = 7.685359106428464\n",
            "Población inicial, mejor fitness = 5.445769544614944\n",
            "Generación 0, mejor fitness = 5.445769544614944\n",
            "Generación 10, mejor fitness = 6.835994299543075\n",
            "Generación 20, mejor fitness = 7.223595840732035\n",
            "Generación 30, mejor fitness = 7.380478593205447\n",
            "Generación 40, mejor fitness = 7.556325576152749\n",
            "Población inicial, mejor fitness = 4.61689781821318\n",
            "Generación 0, mejor fitness = 4.7549203175827275\n",
            "Generación 10, mejor fitness = 6.923492600694171\n",
            "Generación 20, mejor fitness = 7.6946234446290145\n",
            "Generación 30, mejor fitness = 7.6946234446290145\n",
            "Generación 40, mejor fitness = 7.821580517014619\n",
            "Avg final mut 0.1: 7.823659469614212\n",
            "Población inicial, mejor fitness = 5.473911087207797\n",
            "Generación 0, mejor fitness = 5.557159723297312\n",
            "Generación 10, mejor fitness = 6.998031007492141\n",
            "Generación 20, mejor fitness = 7.410793264023271\n",
            "Generación 30, mejor fitness = 7.737430624566869\n",
            "Generación 40, mejor fitness = 7.860070912573857\n",
            "Población inicial, mejor fitness = 5.897816384747579\n",
            "Generación 0, mejor fitness = 5.897816384747579\n",
            "Generación 10, mejor fitness = 6.820994164060732\n",
            "Generación 20, mejor fitness = 7.3400892699554605\n",
            "Generación 30, mejor fitness = 7.6199869410492616\n",
            "Generación 40, mejor fitness = 7.917118415922188\n",
            "Población inicial, mejor fitness = 5.178638895038546\n",
            "Generación 0, mejor fitness = 5.178638895038546\n",
            "Generación 10, mejor fitness = 7.146094547843624\n",
            "Generación 20, mejor fitness = 7.260657581882471\n",
            "Generación 30, mejor fitness = 7.56230116206225\n",
            "Generación 40, mejor fitness = 7.915478107757955\n",
            "Población inicial, mejor fitness = 5.214652829638477\n",
            "Generación 0, mejor fitness = 6.144119347553292\n",
            "Generación 10, mejor fitness = 7.112526111458605\n",
            "Generación 20, mejor fitness = 7.463152848044801\n",
            "Generación 30, mejor fitness = 7.736702986016805\n",
            "Generación 40, mejor fitness = 7.79665083553017\n",
            "Población inicial, mejor fitness = 5.420948882108065\n",
            "Generación 0, mejor fitness = 5.420948882108065\n",
            "Generación 10, mejor fitness = 6.813153941885657\n",
            "Generación 20, mejor fitness = 7.561886751959974\n",
            "Generación 30, mejor fitness = 7.794302050073914\n",
            "Generación 40, mejor fitness = 7.938379937310918\n",
            "Población inicial, mejor fitness = 5.721065113900821\n",
            "Generación 0, mejor fitness = 5.721065113900821\n",
            "Generación 10, mejor fitness = 6.992966458163657\n",
            "Generación 20, mejor fitness = 7.332240528921752\n",
            "Generación 30, mejor fitness = 7.438435177208969\n",
            "Generación 40, mejor fitness = 7.727738937146448\n",
            "Población inicial, mejor fitness = 5.246284014169227\n",
            "Generación 0, mejor fitness = 5.589606930192578\n",
            "Generación 10, mejor fitness = 6.347554947008842\n",
            "Generación 20, mejor fitness = 7.197681718609096\n",
            "Generación 30, mejor fitness = 7.43253888374569\n",
            "Generación 40, mejor fitness = 7.6231517700368\n",
            "Población inicial, mejor fitness = 5.8670439508885215\n",
            "Generación 0, mejor fitness = 5.8670439508885215\n",
            "Generación 10, mejor fitness = 7.296577336637617\n",
            "Generación 20, mejor fitness = 7.6975339889550645\n",
            "Generación 30, mejor fitness = 7.841539632031654\n",
            "Generación 40, mejor fitness = 7.872500117588713\n",
            "Población inicial, mejor fitness = 5.253548195708758\n",
            "Generación 0, mejor fitness = 5.394187437835297\n",
            "Generación 10, mejor fitness = 6.990925577224047\n",
            "Generación 20, mejor fitness = 7.354118807359686\n",
            "Generación 30, mejor fitness = 7.648603147606602\n",
            "Generación 40, mejor fitness = 7.7786623832943524\n",
            "Población inicial, mejor fitness = 5.739668018049705\n",
            "Generación 0, mejor fitness = 5.739668018049705\n",
            "Generación 10, mejor fitness = 6.7828338211388255\n",
            "Generación 20, mejor fitness = 7.437820507546178\n",
            "Generación 30, mejor fitness = 7.437820507546178\n",
            "Generación 40, mejor fitness = 7.519009314052563\n",
            "Avg final mut 0.2: 7.895963672961833\n",
            "Población inicial, mejor fitness = 5.7916127453850486\n",
            "Generación 0, mejor fitness = 5.7916127453850486\n",
            "Generación 10, mejor fitness = 7.0615558203974125\n",
            "Generación 20, mejor fitness = 7.3755954296541875\n",
            "Generación 30, mejor fitness = 7.72833461468438\n",
            "Generación 40, mejor fitness = 7.917082177585208\n",
            "Población inicial, mejor fitness = 4.865256444732859\n",
            "Generación 0, mejor fitness = 5.564660047736547\n",
            "Generación 10, mejor fitness = 6.989097374033395\n",
            "Generación 20, mejor fitness = 7.392082541673127\n",
            "Generación 30, mejor fitness = 7.622866385608925\n",
            "Generación 40, mejor fitness = 7.631353261030693\n",
            "Población inicial, mejor fitness = 5.433598964170858\n",
            "Generación 0, mejor fitness = 5.838564520265611\n",
            "Generación 10, mejor fitness = 7.3136031322701385\n",
            "Generación 20, mejor fitness = 7.3136031322701385\n",
            "Generación 30, mejor fitness = 7.909023484198686\n",
            "Generación 40, mejor fitness = 7.935350083781025\n",
            "Población inicial, mejor fitness = 5.370312342197309\n",
            "Generación 0, mejor fitness = 5.686206644371483\n",
            "Generación 10, mejor fitness = 7.084656303489597\n",
            "Generación 20, mejor fitness = 7.2979439602926695\n",
            "Generación 30, mejor fitness = 7.6282562705714785\n",
            "Generación 40, mejor fitness = 7.7322634793265825\n",
            "Población inicial, mejor fitness = 5.688867658842057\n",
            "Generación 0, mejor fitness = 5.688867658842057\n",
            "Generación 10, mejor fitness = 7.391840783767353\n",
            "Generación 20, mejor fitness = 7.391840783767353\n",
            "Generación 30, mejor fitness = 7.529431998370976\n",
            "Generación 40, mejor fitness = 7.551965759970425\n",
            "Población inicial, mejor fitness = 5.963619978239216\n",
            "Generación 0, mejor fitness = 6.664804760559652\n",
            "Generación 10, mejor fitness = 6.664804760559652\n",
            "Generación 20, mejor fitness = 6.980651851917806\n",
            "Generación 30, mejor fitness = 7.735230185151655\n",
            "Generación 40, mejor fitness = 7.735230185151655\n",
            "Población inicial, mejor fitness = 6.081943338959842\n",
            "Generación 0, mejor fitness = 6.081943338959842\n",
            "Generación 10, mejor fitness = 6.6652118509197535\n",
            "Generación 20, mejor fitness = 7.0599895225383325\n",
            "Generación 30, mejor fitness = 7.220143655430819\n",
            "Generación 40, mejor fitness = 7.568886517954938\n",
            "Población inicial, mejor fitness = 6.077121973530368\n",
            "Generación 0, mejor fitness = 6.077121973530368\n",
            "Generación 10, mejor fitness = 7.021726691479697\n",
            "Generación 20, mejor fitness = 7.5503338237292015\n",
            "Generación 30, mejor fitness = 7.586257282672193\n",
            "Generación 40, mejor fitness = 7.651506028946493\n",
            "Población inicial, mejor fitness = 5.3362461058958495\n",
            "Generación 0, mejor fitness = 5.551985373063339\n",
            "Generación 10, mejor fitness = 7.0904976702714055\n",
            "Generación 20, mejor fitness = 7.417708987916662\n",
            "Generación 30, mejor fitness = 7.603872342974203\n",
            "Generación 40, mejor fitness = 7.794578978802264\n",
            "Población inicial, mejor fitness = 4.684628654567226\n",
            "Generación 0, mejor fitness = 5.6646843387519965\n",
            "Generación 10, mejor fitness = 6.583531331575838\n",
            "Generación 20, mejor fitness = 7.014701537702191\n",
            "Generación 30, mejor fitness = 7.292268975989912\n",
            "Generación 40, mejor fitness = 7.440508727750604\n",
            "Avg final mut 0.5: 7.791156212582032\n",
            "Avg final base: 7.45289040172873\n"
          ]
        },
        {
          "output_type": "display_data",
          "data": {
            "text/plain": [
              "<Figure size 640x480 with 1 Axes>"
            ],
            "image/png": "[encoded data removed]"
          },
          "metadata": {}
        }
      ]
    },
    {
      "cell_type": "markdown",
      "source": [
        "# Análisis Detallado del Resultado de los Experimentos\n",
        "\n",
        "* El objetivo es ver cómo afecta la mutación (el \"power-up\" que cambia cosas al azar) al performance, y compararlo con el código \"base\" (el original con bugs de duplicados).\n",
        "* El análisis se basa en:\n",
        "  * Fitness: La \"puntuación\" de eficiencia (pasajeros desembarcados por unidad de tiempo). Más alto = mejor asignación.\n",
        "  * Corrimos el juego 10 veces para cada configuración para hacer las cuentas más justas. Usamos el promedio (la suma dividida entre la cantidad para un número típico) para evitar que los resultados raros (outliers, valores que se salen mucho del resto) nos confundan.\n",
        "  * Configs probadas: Sin mutación (p_mut=0), con mut 0.1, 0.2, 0.5, y base con mut 0.2.\n",
        "* Vamos por secciones: el texto del output, los promedios, el gráfico, comparaciones y conclusiones."
      ],
      "metadata": {
        "id": "OSMMik_KpSkb"
      }
    },
    {
      "cell_type": "markdown",
      "source": [
        "# 1. Análisis del Output de Texto: Las Corridas Individuales\n",
        "\n",
        "* El output muestra el progreso de cada una de las 10 corridas por experimento. Cada bloque empieza con \"Población inicial...\" y muestra fitness por generaciones (cada 10). Hay 5 experimentos (sin mut, mut 0.1, etc.), así que aprox. 50 bloques en total (10 por cada uno). Lo resumo por experimento para no aburrir:\n",
        "  * Experimento 1: Sin mutación (p_mut=0):\n",
        "    * Iniciales varían aprox. 5.2-6.1 (promedio ~5.7, random pero ordenado ayuda).\n",
        "    * Mejora rápida: En gen 10, ~6.9-7.3; gen 20, ~7.2-7.5; gen 30, ~7.4-7.7; gen 40, ~7.5-7.9.\n",
        "    * Finales por corrida: Alrededor de 7.5-7.9. Ej: Una sube a 7.886, otra a 7.472. Sin mut, depende solo de cruces – mejora pero se estanca si no hay \"cambios repentinos\".\n",
        "  * Experimento 2: Mutación 0.1 (baja, 10% chance):\n",
        "    * Iniciales aprox. 4.6-5.9 (~5.3 promedio).\n",
        "    * Mejora: Gen 10, ~6.7-7.2; gen 20, ~7.1-7.6; gen 30, ~7.4-7.7; gen 40, ~7.5-7.8.\n",
        "    * Finales: 7.5-7.8. Similar a sin mut, pero un poquito más estable – la baja mut ayuda a refinar sin caos.\n",
        "  * Experimento 3: Mutación 0.2 (media, 20% chance):\n",
        "    * Iniciales aprox. 5.2-5.9 (~5.5 promedio).\n",
        "    * Mejora fuerte: Gen 10, ~6.8-7.3; gen 20, ~7.3-7.7; gen 30, ~7.4-7.8; gen 40, ~7.6-7.9.\n",
        "    * Finales: Alto, 7.5-7.9. Ej: Una llega a 7.938. Parece el \"sweet spot\" – mut suficiente para explorar sin desorden.\n",
        "  * Experimento 4: Mutación 0.5 (alta, 50% chance):\n",
        "    * Iniciales aprox. 4.7-6.1 (~5.5 promedio).\n",
        "    * Mejora variable: Gen 10, ~6.6-7.4; gen 20, ~7.0-7.6; gen 30, ~7.2-7.9; gen 40, ~7.4-7.9.\n",
        "    * Finales: 7.4-7.9. Más \"ruidoso\" – mut alta introduce cambios repentinos, a veces ayuda (llega a 7.935), pero otras estanca (7.44).\n",
        "  * Experimento 5: Código base con mut 0.2:\n",
        "    * Iniciales aprox. 5.2-6.0 (~5.6 promedio).\n",
        "    * Mejora: Gen 10, ~6.8-7.1; gen 20, ~7.1-7.5; gen 30, ~7.3-7.6; gen 40, ~7.4-7.8.\n",
        "    * Finales: Más bajos, ~7.4-7.8. Bugs de duplicados inflan fitness inicial (asignaciones inválidas parecen buenas), pero limitan mejora – no explora bien.\n",
        "* En general, todas mejoran (de ~5.5 inicial a ~7.5-7.9 final), pero con mut media (0.2) sube más consistente. El base es peor porque reps invalidan soluciones reales."
      ],
      "metadata": {
        "id": "j3BGH_Tjp1yD"
      }
    },
    {
      "cell_type": "markdown",
      "source": [
        "# 2. Análisis de los Promedios Finales (los \"puntajes promedio\")\n",
        "\n",
        "* Al final del output, se muestran los promedios de los 10 finales por config. Esto es estadística: Promedio da idea \"real\" sin luck de una corrida.\n",
        "  * Avg final sin mut: 7.839289059980199 (~7.84):\n",
        "    * Bueno, pero no el mejor. Deshabilitar mut significa solo cruces – explota lo inicial, pero no explora nuevo (estanca).\n",
        "  * Avg final mut 0.1: 7.823659469614212 (~7.82):\n",
        "    * Similar a sin mut, pero un pelín peor. Baja mut ayuda poco – como \"power-up débil\", no suficiente para saltar mesetas.\n",
        "  * Avg final mut 0.2: 7.895963672961833 (~7.90):\n",
        "    * El más alto! Balance perfecto: Mut suficiente para diversidad (nuevos flights/gates), sin demasiado caos. Mejora ~13% vs inicial promedio.\n",
        "  * Avg final mut 0.5: 7.791156212582032 (~7.79):\n",
        "    * Bajo que 0.2. Alta mut es \"demasiado random\" – cambia mucho, destruye buenas soluciones, como un power-up overpowered que resetea el level.\n",
        "  * Avg final base: 7.45289040172873 (~7.45):\n",
        "    * El peor. El base permite duplicados (mismo gate múltiple), inflando fitness falso (parece eficiente pero inválido). Nuestro fix da resultados \"reales\" más altos.\n",
        "* En resumen, aquí llegamos a una conclusión clara: Usar una tasa de mutación del 20% (mut 0.2) es la mejor opción, porque da el mejor equilibrio entre probar cosas nuevas y mejorar las buenas ideas. En cambio, la versión antigua del código (base) no funciona tan bien porque tiene errores (bugs, pequeños fallos que arruinan los resultados)."
      ],
      "metadata": {
        "id": "ORNoG7FErY5C"
      }
    },
    {
      "cell_type": "markdown",
      "source": [
        "# 3. Análisis del Gráfico\n",
        "\n",
        "* El gráfico muestra curvas promediadas (avg mejor fitness por gen, sobre 10 runs). Es como un \"gráfico de progreso\" promedio.\n",
        "  * Eje X: Generaciones (0-50): Rondas del AG.\n",
        "  * Eje Y: Avg Mejor Fitness (~5.0-8.0): Promedio del mejor puntaje por gen.\n",
        "  * Curvas por color:\n",
        "    * Azul (Sin mut): Sube rápido a ~7.5 (gens 0-10), luego plano ~7.8. Deshabilitada mut = buena explotación inicial, pero estanca (no innova).\n",
        "    * Naranja (Mut 0.1): Similar a azul, sube a ~7.8. Baja mut añade poco – casi como sin.\n",
        "    * Verde (Mut 0.2): Sube fuerte a ~7.9, con zigzags (mut ayuda a saltar). La más alta al final – balance ideal.\n",
        "    * Rojo (Mut 0.5): Sube irregular, con caídas/plateaus, final ~7.8. Alta mut = caos, inestabilidad.\n",
        "    * Morado (Base): Sube lento a ~7.4, plana temprano. Bugs limitan – no alcanza nuestros niveles.\n",
        "  * Forma general: Todas suben (mejora), pero con mut 0.2 más alto/estable. Zigzags en mut alta muestran \"exploración\" (buena pero excesiva). Base plana = converge prematura por invalids.\n",
        "* Conclusión gráfica: Mut 0.2 domina – curva más alta/suave. Sin mut/base estancan rápido."
      ],
      "metadata": {
        "id": "p1mk-78Sr7vs"
      }
    },
    {
      "cell_type": "markdown",
      "source": [
        "# 4. Comparaciones Entre Configuraciones\n",
        "\n",
        "  * Sin mut vs Con mut: Sin mut es bueno inicial (prom 7.84), pero mut añade diversidad: 0.2 sube a 7.90 (+1.3%). Deshabilitar mut = \"modo seguro\" pero limitado.\n",
        "  * Diferentes tasas mut: Baja (0.1: 7.82) similar a sin; media (0.2: 7.90) mejor; alta (0.5: 7.79) peor por exceso random. Regla: Mut ~0.2 balancea explore (nuevas ideas) vs exploit (refinar buenas).\n",
        "  * Nuestro algoritmo genético es mejor que el antiguo (llamado \"base\"). Logramos una puntuación promedio de 7.90 frente a 7.45 del antiguo cuando usamos una tasa de cambio (mutación) del 0.2, lo que significa un aumento del 6%. Gracias a que arreglamos el problema de repetir puertas (duplicados), nuestras soluciones son correctas y más efectivas. En cambio, el antiguo permitía repetir puertas (como hacer trampa), lo que inflaba su puntuación de forma falsa y en realidad no era tan buena.\n",
        "\n",
        "* Estadística: 10 runs dan confianza – varianza baja en promedios (~0.1 diferencia típica)."
      ],
      "metadata": {
        "id": "vQNgbRG1sYti"
      }
    },
    {
      "cell_type": "markdown",
      "source": [
        "# 5. Conclusiones Generales\n",
        "\n",
        " * El algoritmo genético que mejoramos funciona muy bien: Sube el puntaje de eficiencia, cuántos pasajeros bajan rápido por unidad de tiempo) de aproximadamente 5.5 a 7.9 en promedio, lo que es una ganancia de casi un 40%.\n",
        " * El \"boost\" de mutación (un cambio al azar que prueba nuevas ideas) es muy importante: Sin él, el programa se queda \"atascado\" en ideas simples; con un nivel medio (0.2, o sea, un 20% de chance de cambiar) es lo mejor para este problema porque balancea bien probar y mejorar; pero si es muy alto (como 0.5), se vuelve inestable y confuso; y la versión vieja (base) es la peor porque tiene errores.\n",
        " * Lo bueno (fortalezas): Que no repita aviones o puertas (unicidad) asegura que las soluciones sean reales y usables; heredar pares de avión-puerta guarda las buenas ideas; y el cambio en dos niveles (aviones y puertas) da mucha flexibilidad para ajustar.\n",
        " * Lo que falta mejorar (debilidades): Todavía no castiga cuando los horarios de los aviones se cruzan en la misma puerta (solapamientos horarios) – esto podría hacer que el puntaje parezca mejor de lo que realmente es si dos vuelos chocan en tiempo.\n",
        " * Explicación sencilla: Imagina la mutación como un \"poder especial\" en un juego: Sin él, te quedas en el mismo nivel; un poco está bien; el medio (0.2) te hace ganar; mucho te desconcentra. Nuestra versión nueva supera la vieja porque evita \"trampas\" como repetir puertas, haciendo el juego más justo y real."
      ],
      "metadata": {
        "id": "M2o1N9c5svBk"
      }
    },
    {
      "cell_type": "markdown",
      "source": [
        "# Punto 6. Implementar una versión multiobjetivo (NSGA-II). La representación de los cromosomas seria la misma que el caso mono-objetivo. Los objetivos serian: a) número total de pasajeros de los vuelos escogidos; y b) tiempo total de desembarco de los pasajeros de los vuelos escogidos en los gates asignados.  Los operadores de cruzamiento, mutación pueden ser los mismos del caso mono-objetivo.\n"
      ],
      "metadata": {
        "id": "56zPHCdI37YP"
      }
    },
    {
      "cell_type": "markdown",
      "source": [
        "* Sigamos con nuestro \"simulador de aeropuerto\" – ahora lo hacemos \"multiobjetivo\", no solo maximizas un puntaje (eficiencia), sino dos a la vez: Más pasajeros (bueno) y menos tiempo de desembarco (también bueno, pero conflictivo porque más pax = más tiempo).\n",
        "* Usamos NSGA-II, un algoritmo \"evolutivo\" avanzado que encuentra \"equilibrios\" (frente Pareto – como opciones donde ganas en uno sin perder mucho en otro).\n",
        "* Piensa en NSGA-II como: (individuos con flights/gates únicos), operadores iguales (nuestro crossover_new y mutate). Objetivos:\n",
        "* a) Total pasajeros: Maximizar (más = mejor).\n",
        "* b) Total tiempo desembarco: Minimizar (menos = mejor, suma tiempos por asignación)."
      ],
      "metadata": {
        "id": "B_eRZgV64xsW"
      }
    },
    {
      "cell_type": "markdown",
      "source": [
        "# Paso 6.1: Importar Librerías (el \"kit de herramientas\")\n",
        "\n",
        "Explicación: Cargamos basics para random, copias, gráficos. Añadimos np para sorts en NSGA-II (ordena frentes)."
      ],
      "metadata": {
        "id": "G4GZYR905LtH"
      }
    },
    {
      "cell_type": "code",
      "source": [
        "import sys\n",
        "import time\n",
        "import numpy as np\n",
        "import random\n",
        "from random import seed, randint, sample, uniform, randrange\n",
        "from copy import deepcopy\n",
        "import matplotlib.pyplot as plt\n",
        "from collections import Counter  # Para contar duplicados"
      ],
      "metadata": {
        "id": "GKzwyrgv5cZo"
      },
      "execution_count": null,
      "outputs": []
    },
    {
      "cell_type": "markdown",
      "source": [
        "# Paso 6.2: Definir Clases para Gates, Vuelos e Individuos (los \"personajes\", adaptados)\n",
        "\n",
        "Explicación: Reusamos Gate/Flight. Individual igual, con ops (crossover_new, mutate) que aseguran unicidad. Fitness ahora es lista (multiobjetivo) – calculamos en func separada."
      ],
      "metadata": {
        "id": "RyV0K9SD5lde"
      }
    },
    {
      "cell_type": "code",
      "source": [
        "# Clases Gate, Sleeve, Zone, Flight\n",
        "class Gate(object):\n",
        "    def __init__(self, identifier, x, y, z):\n",
        "        self.identifier = identifier\n",
        "        self.distance = x\n",
        "        self.potential_of_speed = y\n",
        "        self.number_of_persons_every_10m = z\n",
        "\n",
        "    def __hash__(self):\n",
        "        return self.identifier\n",
        "\n",
        "class Sleeve(Gate):\n",
        "    def __init__(self, identifier, length_of_sleeve, speed_of_passengers_on_sleeve, number_of_passengers_every_10m):\n",
        "        super().__init__(identifier, length_of_sleeve, speed_of_passengers_on_sleeve, number_of_passengers_every_10m)\n",
        "\n",
        "class Zone(Gate):\n",
        "    def __init__(self, identifier, distance_zone_door, speed_bus, capacity_of_bus):\n",
        "        super().__init__(identifier, distance_zone_door, speed_bus, capacity_of_bus)\n",
        "\n",
        "class Flight(object):\n",
        "    def __init__(self, identifier, maximum_capacity, number_of_passengers, parking_time, length_wings, inspection_time, landing_time_on_stairs, arriving_time, leaving_time):\n",
        "        self.identifier = identifier\n",
        "        self.maximum_capacity = maximum_capacity\n",
        "        self.number_of_passengers = number_of_passengers\n",
        "        self.parking_time = parking_time\n",
        "        self.length_wings = length_wings\n",
        "        self.inspection_time = inspection_time\n",
        "        self.landing_time_on_stairs = landing_time_on_stairs\n",
        "        self.arriving_time = arriving_time\n",
        "        self.leaving_time = leaving_time\n",
        "\n",
        "    def __hash__(self):\n",
        "        return self.identifier\n",
        "\n",
        "# Clase Individual (mismo, fitness ahora lista [0,0])\n",
        "class Individual(object):\n",
        "    def __init__(self, flights, gates, flights_pool, gates_pool):\n",
        "        self.flights = flights[:]\n",
        "        self.gates = gates[:]\n",
        "        self.flights_pool = flights_pool\n",
        "        self.gates_pool = gates_pool\n",
        "        self.fitness = [0, 0]  # [total_pax, -total_time] (multi, maximiza ambos)\n",
        "\n",
        "    def crossover_new(self, other):\n",
        "        all_flights = list(set(self.flights + other.flights))\n",
        "        k = len(self.flights)\n",
        "        child1_flights = random.sample(all_flights, min(k, len(all_flights)))\n",
        "        child1_gates = []\n",
        "        for f in child1_flights:\n",
        "            if f in self.flights:\n",
        "                gate = self.gates[self.flights.index(f)]\n",
        "            elif f in other.flights:\n",
        "                gate = other.gates[other.flights.index(f)]\n",
        "            else:\n",
        "                gate = random.choice(self.gates_pool)\n",
        "            child1_gates.append(gate)\n",
        "        child1_gates = self.resolve_duplicate_gates(child1_gates)\n",
        "        ind1 = Individual(child1_flights, child1_gates, self.flights_pool, self.gates_pool)\n",
        "\n",
        "        child2_flights = random.sample(all_flights, min(k, len(all_flights)))\n",
        "        child2_gates = []\n",
        "        for f in child2_flights:\n",
        "            if f in other.flights:\n",
        "                gate = other.gates[other.flights.index(f)]\n",
        "            elif f in self.flights:\n",
        "                gate = self.gates[self.flights.index(f)]\n",
        "            else:\n",
        "                gate = random.choice(self.gates_pool)\n",
        "            child2_gates.append(gate)\n",
        "        child2_gates = self.resolve_duplicate_gates(child2_gates)\n",
        "        ind2 = Individual(child2_flights, child2_gates, self.flights_pool, self.gates_pool)\n",
        "        return [ind1, ind2]\n",
        "\n",
        "    def resolve_duplicate_gates(self, gates):\n",
        "        count = Counter(gates)\n",
        "        if len(count) == len(gates):\n",
        "            return gates\n",
        "        seen = set()\n",
        "        new_gates = gates.copy()\n",
        "        for idx, g in enumerate(new_gates):\n",
        "            if g in seen:\n",
        "                available = [gg for gg in self.gates_pool if gg not in seen]\n",
        "                if available:\n",
        "                    new_gates[idx] = random.choice(available)\n",
        "                else:\n",
        "                    swap_idx = random.randrange(len(new_gates))\n",
        "                    while new_gates[swap_idx] == g:\n",
        "                        swap_idx = random.randrange(len(new_gates))\n",
        "                    new_gates[idx], new_gates[swap_idx] = new_gates[swap_idx], new_gates[idx]\n",
        "            seen.add(new_gates[idx])\n",
        "        return new_gates\n",
        "\n",
        "    def mutate(self):\n",
        "        mutated_flights = self.flights.copy()\n",
        "        mutated_gates = self.gates.copy()\n",
        "        if random.random() < 0.5:\n",
        "            index = random.randrange(len(mutated_flights))\n",
        "            available_flights = [f for f in self.flights_pool if f not in mutated_flights]\n",
        "            if available_flights:\n",
        "                mutated_flights[index] = random.choice(available_flights)\n",
        "        else:\n",
        "            index = random.randrange(len(mutated_gates))\n",
        "            available_gates = [g for g in self.gates_pool if g not in mutated_gates]\n",
        "            if available_gates:\n",
        "                mutated_gates[index] = random.choice(available_gates)\n",
        "            else:\n",
        "                i1, i2 = random.sample(range(len(mutated_gates)), 2)\n",
        "                mutated_gates[i1], mutated_gates[i2] = mutated_gates[i2], mutated_gates[i1]\n",
        "        return Individual(mutated_flights, mutated_gates, self.flights_pool, self.gates_pool)"
      ],
      "metadata": {
        "id": "GuUZTafI5tpQ"
      },
      "execution_count": null,
      "outputs": []
    },
    {
      "cell_type": "markdown",
      "source": [
        "# Paso 6.3: Funciones Utilitarias y para Evaluación Multiobjetivo\n",
        "\n",
        "* Explicación:\n",
        "  * Vamos a crear listas con 30 vuelos y 10 puertas (gates) de forma automática.\n",
        "  * Luego, usamos un paso para organizar estos vuelos y puertas de manera inteligente (ordenar).\n",
        "  * La creación inicial de los \"equipos\" de soluciones (inicialización de la población, o \"init pop\") sigue siendo la misma.\n",
        "  * Introducimos una nueva manera de calcular la puntuación (fitness_multi) que suma el total de pasajeros y resta el tiempo total de desembarco (para que sea como maximizar pasajeros y minimizar tiempo, usando un truco de poner un signo negativo). Finalmente, el paso de evaluar ahora usa esta nueva puntuación para decidir qué soluciones son las mejores."
      ],
      "metadata": {
        "id": "5KAE3EXf7Sk2"
      }
    },
    {
      "cell_type": "code",
      "source": [
        "# Generar lists\n",
        "def generate_list_of_gates(number_of_gates, max_length_of_sleeve=20, max_speed_of_passengers_on_sleeve=3, max_number_of_passengers_every_10m=12, max_distance_zone_door=50, max_speed_bus=15, max_capacity_of_bus=200):\n",
        "    list_of_gates = []\n",
        "    for gate_identifier in range(number_of_gates):\n",
        "        gate_type = randint(0, 1)\n",
        "        if gate_type == 0:\n",
        "            distance = randint(1, max_length_of_sleeve)\n",
        "            speed = randint(1, max_speed_of_passengers_on_sleeve)\n",
        "            capacity = randint(1, max_number_of_passengers_every_10m)\n",
        "            gate = Sleeve(gate_identifier, distance, speed, capacity)\n",
        "        else:\n",
        "            distance = randint(1, max_distance_zone_door)\n",
        "            speed = randint(1, max_speed_bus)\n",
        "            capacity = randint(1, max_capacity_of_bus)\n",
        "            gate = Zone(gate_identifier, distance, speed, capacity)\n",
        "        list_of_gates.append(gate)\n",
        "    return list_of_gates\n",
        "\n",
        "def generate_list_of_flights(number_of_flights, max_maximum_capacity=100, max_number_of_passengers_factor=0.8, max_parking_time=30, max_length_wings=25, max_inspection_time=180, max_landing_time_on_stairs=60, max_arriving_time=200, max_leaving_time=1000):\n",
        "    list_of_flights = []\n",
        "    max_pax = int(max_number_of_passengers_factor * max_maximum_capacity)\n",
        "    for id in range(number_of_flights):\n",
        "        cap = randint(max_pax, max_maximum_capacity)\n",
        "        pax = randint(1, max_pax)\n",
        "        park = randint(1, max_parking_time)\n",
        "        wings = randint(1, max_length_wings)\n",
        "        inspect = randint(1, max_inspection_time)\n",
        "        stairs = randint(1, max_landing_time_on_stairs)\n",
        "        arrive = randint(1, max_arriving_time)\n",
        "        leave = randint(max_arriving_time + 1, max_leaving_time)\n",
        "        flight = Flight(id, cap, pax, park, wings, inspect, stairs, arrive, leave)\n",
        "        list_of_flights.append(flight)\n",
        "    return list_of_flights\n",
        "\n",
        "# Ordenar\n",
        "def process_desirability(n):\n",
        "    return n.number_of_passengers / (n.leaving_time - n.arriving_time)\n",
        "\n",
        "def process_flow(n):\n",
        "    return n.number_of_persons_every_10m * n.potential_of_speed * 10 / n.distance\n",
        "\n",
        "# Init pop\n",
        "def init_population(pop_number, flights_to_assign, flights_pool, gates_pool):\n",
        "    population = []\n",
        "    for _ in range(pop_number):\n",
        "        flights = random.sample(flights_pool, flights_to_assign)\n",
        "        gates = random.sample(gates_pool, flights_to_assign)\n",
        "        population.append(Individual(flights, gates, flights_pool, gates_pool))\n",
        "    return population\n",
        "\n",
        "# Nueva fitness multi: [sum_pax, -sum_time]\n",
        "def fitness_multi(flights, gates):\n",
        "    total_pax = 0\n",
        "    total_time = 0\n",
        "    grace = 0.05\n",
        "    for f, g in zip(flights, gates):\n",
        "        pax = f.number_of_passengers\n",
        "        total_pax += pax\n",
        "        if isinstance(g, Sleeve):\n",
        "            time_dis = (pax * (g.distance + f.length_wings) / process_flow(g)) + f.parking_time + f.inspection_time\n",
        "        else:\n",
        "            time_dis = (pax * g.distance / process_flow(g)) + f.parking_time + (f.landing_time_on_stairs * pax / f.maximum_capacity) + f.inspection_time\n",
        "        time_dis *= (1 + grace)\n",
        "        total_time += time_dis\n",
        "    return [total_pax, -total_time]  # Max pax, min time (como max -time)\n",
        "\n",
        "# Evaluate pop multi\n",
        "def evaluate_population(population, fitness_fn):\n",
        "    for ind in population:\n",
        "        if ind.fitness == [0, 0]:\n",
        "            ind.fitness = fitness_fn(ind.flights, ind.gates)"
      ],
      "metadata": {
        "id": "PauiMGlH7q5-"
      },
      "execution_count": null,
      "outputs": []
    },
    {
      "cell_type": "markdown",
      "source": [
        "# Paso 6.4: Funciones para NSGA-II (el \"motor corregido\")\n",
        "\n",
        "* Explicación:\n",
        "  * El \"non-dominated sort\" (clasificación de opciones no superadas) organiza las mejores soluciones en grupos (frentes).\n",
        "  * El \"dominates check\" (verificación de dominación) compara si una solución es mejor en al menos un objetivo sin ser peor en otros.\n",
        "  * \"Crowding\" (diversidad, con corrección si no hay frentes) asegura que haya variedad, saltando si un grupo está vacío.\n",
        "  * \"Assign ranks/crowds\" (asignar rangos y diversidad) da puntos a cada solución y salta vacíos.\n",
        "  * \"Tournament\" (torneo) elige las mejores soluciones compitiendo.\n",
        "  * El bucle NSGA-II (combinar, ordenar, seleccionar) mezcla soluciones, las ordena y elige las mejores para la siguiente ronda."
      ],
      "metadata": {
        "id": "TSdDaFBj7yfG"
      }
    },
    {
      "cell_type": "code",
      "source": [
        "def non_dominated_sort(pop):\n",
        "    fronts = []\n",
        "    dom_counts = [0] * len(pop)\n",
        "    dominated_by = [[] for _ in pop]\n",
        "    for i, p in enumerate(pop):\n",
        "        for j, q in enumerate(pop):\n",
        "            if i == j: continue\n",
        "            if dominates(p.fitness, q.fitness):\n",
        "                dominated_by[i].append(j)\n",
        "            elif dominates(q.fitness, p.fitness):\n",
        "                dom_counts[i] += 1\n",
        "    front = [i for i, count in enumerate(dom_counts) if count == 0]\n",
        "    fronts.append(front)\n",
        "    k = 0\n",
        "    while fronts[k]:\n",
        "        next_front = []\n",
        "        for i in fronts[k]:\n",
        "            for j in dominated_by[i]:\n",
        "                dom_counts[j] -= 1\n",
        "                if dom_counts[j] == 0:\n",
        "                    next_front.append(j)\n",
        "        k += 1\n",
        "        fronts.append(next_front)\n",
        "    fronts = [f for f in fronts if f]\n",
        "    return fronts\n",
        "\n",
        "def dominates(f1, f2):\n",
        "    return all(a >= b for a, b in zip(f1, f2)) and any(a > b for a, b in zip(f1, f2))\n",
        "\n",
        "def crowding_distance(front, pop):\n",
        "    if not front:\n",
        "        return []\n",
        "    dist = [0] * len(front)\n",
        "    for obj in range(len(pop[0].fitness)):\n",
        "        sorted_front = sorted(front, key=lambda i: pop[i].fitness[obj])\n",
        "        if len(sorted_front) == 0: continue\n",
        "        dist[0] = float('inf')\n",
        "        dist[-1] = float('inf')\n",
        "        if len(front) < 3:\n",
        "            continue\n",
        "        min_val = pop[sorted_front[0]].fitness[obj]\n",
        "        max_val = pop[sorted_front[-1]].fitness[obj]\n",
        "        if max_val == min_val:\n",
        "            continue\n",
        "        for i in range(1, len(front)-1):\n",
        "            dist[i] += (pop[sorted_front[i+1]].fitness[obj] - pop[sorted_front[i-1]].fitness[obj]) / (max_val - min_val)\n",
        "    return dist\n",
        "\n",
        "def assign_ranks_crowds(pop):\n",
        "    fronts = non_dominated_sort(pop)\n",
        "    ranks = [0] * len(pop)\n",
        "    for rank, front in enumerate(fronts):\n",
        "        for i in front:\n",
        "            ranks[i] = rank\n",
        "    crowds = [0] * len(pop)\n",
        "    for front in fronts:\n",
        "        if not front: continue\n",
        "        front_crowds = crowding_distance(front, pop)\n",
        "        for j, idx in enumerate(front):\n",
        "            crowds[idx] = front_crowds[j]\n",
        "    return ranks, crowds\n",
        "\n",
        "def tournament_select(pop, ranks, crowds, tournament_size=2):\n",
        "    candidates = random.sample(range(len(pop)), tournament_size)\n",
        "    candidates = sorted(candidates, key=lambda i: (ranks[i], -crowds[i]))\n",
        "    return pop[candidates[0]]\n",
        "\n",
        "def nsga_ii(flights_pool, gates_pool, num_ind, flights_to_assign, fitness_fn, n_gens, p_mut=0.2):\n",
        "    pop = init_population(num_ind, flights_to_assign, flights_pool, gates_pool)\n",
        "    evaluate_population(pop, fitness_fn)\n",
        "    for g in range(n_gens):\n",
        "        offspring = []\n",
        "        ranks, crowds = assign_ranks_crowds(pop)\n",
        "        for _ in range(num_ind // 2):\n",
        "            p1 = tournament_select(pop, ranks, crowds)\n",
        "            p2 = tournament_select(pop, ranks, crowds)\n",
        "            children = p1.crossover_new(p2)\n",
        "            for child in children:\n",
        "                if uniform(0, 1) < p_mut:\n",
        "                    child = child.mutate()\n",
        "                offspring.append(child)\n",
        "        evaluate_population(offspring, fitness_fn)\n",
        "        combined = pop + offspring\n",
        "        fronts = non_dominated_sort(combined)\n",
        "        ranks, crowds = assign_ranks_crowds(combined)\n",
        "        new_pop = []\n",
        "        front_idx = 0\n",
        "        while front_idx < len(fronts) and len(new_pop) + len(fronts[front_idx]) <= num_ind:\n",
        "            new_pop.extend([combined[i] for i in fronts[front_idx]])\n",
        "            front_idx += 1\n",
        "        if len(new_pop) < num_ind and front_idx < len(fronts):\n",
        "            front = fronts[front_idx]\n",
        "            front_crowds = [crowds[i] for i in front]\n",
        "            sorted_front = [x for _, x in sorted(zip(front_crowds, front), reverse=True)]\n",
        "            new_pop.extend([combined[i] for i in sorted_front[:num_ind - len(new_pop)]])\n",
        "        pop = new_pop\n",
        "    return pop\n",
        "\n",
        "def make_solution_report(ind, selection_fn, crossover, mutation):\n",
        "    print(f\"Selección: {selection_fn} - Cruzamiento: {crossover} - Mutación: {mutation} - Fitness: {ind.fitness}\")\n",
        "    print(\" - \".join([f\"Vuelo {f.identifier} en {'Zone' if isinstance(g, Zone) else 'Sleeve'} {g.identifier}\" for f, g in zip(ind.flights, ind.gates)]))"
      ],
      "metadata": {
        "id": "E_eq5RP6rQZm"
      },
      "execution_count": null,
      "outputs": []
    },
    {
      "cell_type": "markdown",
      "source": [
        "# Paso 6.5: Prueba y Ejecución (el \"play\" multi, corregido)\n",
        "\n",
        "* Explicación: Seed para reproducir. Genera/ordena data. Corre NSGA-II. Extrae Pareto, plot scatter (pax vs time). Reporta ej uno con max pax."
      ],
      "metadata": {
        "id": "F_DxqrKj8CPt"
      }
    },
    {
      "cell_type": "code",
      "source": [
        "seed(0)\n",
        "\n",
        "number_of_gates = 10\n",
        "number_of_flights = 30\n",
        "\n",
        "list_of_gates = generate_list_of_gates(number_of_gates)\n",
        "list_of_flights = generate_list_of_flights(number_of_flights)\n",
        "\n",
        "flights_to_assign = 10\n",
        "\n",
        "list_of_flights = sorted(list_of_flights, key=process_desirability, reverse=True)\n",
        "list_of_gates = sorted(list_of_gates, key=process_flow, reverse=True)\n",
        "\n",
        "num_ind = 50\n",
        "n_gens = 50\n",
        "p_mut = 0.2\n",
        "\n",
        "final_pop = nsga_ii(list_of_flights, list_of_gates, num_ind, flights_to_assign, fitness_multi, n_gens, p_mut)\n",
        "\n",
        "fronts = non_dominated_sort(final_pop)\n",
        "pareto = [final_pop[i] for i in fronts[0]]\n",
        "\n",
        "pax = [ind.fitness[0] for ind in pareto]\n",
        "time = [-ind.fitness[1] for ind in pareto]\n",
        "plt.scatter(pax, time)\n",
        "plt.xlabel(\"Total Pasajeros (max)\")\n",
        "plt.ylabel(\"Total Tiempo Desembarco (min)\")\n",
        "plt.title(\"Frente Pareto\")\n",
        "plt.show()\n",
        "\n",
        "best_pax = max(pareto, key=lambda ind: ind.fitness[0])\n",
        "make_solution_report(best_pax, \"tournament\", \"new\", \"mutate\")"
      ],
      "metadata": {
        "colab": {
          "base_uri": "https://localhost:8080/",
          "height": 529
        },
        "id": "Mo8nwdihrkKO",
        "outputId": "90d91ca0-10b6-4a88-9e52-ecd9d618f3c7"
      },
      "execution_count": null,
      "outputs": [
        {
          "output_type": "display_data",
          "data": {
            "text/plain": [
              "<Figure size 640x480 with 1 Axes>"
            ],
            "image/png": "[encoded data removed]"
          },
          "metadata": {}
        },
        {
          "output_type": "stream",
          "name": "stdout",
          "text": [
            "Selección: tournament - Cruzamiento: new - Mutación: mutate - Fitness: [645, -2873.9783633963225]\n",
            "Vuelo 3 en Sleeve 7 - Vuelo 25 en Sleeve 8 - Vuelo 21 en Zone 9 - Vuelo 20 en Sleeve 3 - Vuelo 4 en Zone 2 - Vuelo 9 en Sleeve 1 - Vuelo 18 en Sleeve 5 - Vuelo 27 en Sleeve 6 - Vuelo 24 en Sleeve 4 - Vuelo 28 en Zone 0\n"
          ]
        }
      ]
    },
    {
      "cell_type": "markdown",
      "source": [
        "# Explicación Detallada de los Resultados del Código NSGA-II\n",
        "\n",
        "Se tiene que equilibrar dos cosas:\n",
        "  * \"conseguir muchos puntos\" (pasajeros) y \"terminar rápido\" (tiempo de desembarco).\n",
        "  * El código usa NSGA-II, un algoritmo \"evolutivo\" que no busca un solo ganador, sino un \"equipo de opciones\" buenas (llamado Frente Pareto).\n",
        "  * Aquí, el AG evolucionó soluciones durante 50 generaciones, y al final te da un gráfico y un ejemplo de solución.\n",
        "\n",
        "**1. Qué Representan los Resultados en General (Contexto Rápido)**\n",
        "\n",
        "  * El Problema Multiobjetivo: En el aeropuerto, quieres maximizar pasajeros (más gente = más \"puntos\", objetivo a) pero minimizar tiempo de desembarco (menos delays = mejor, objetivo b). Estos chocan: Más pasajeros suelen tomar más tiempo (colas, buses, etc.). NSGA-II encuentra \"equilibrios\" – soluciones donde no puedes mejorar uno sin empeorar el otro. Es como en un juego: No puedes tener infinita vida Y daño – buscas balance.\n",
        "  * Qué Hizo el Código: Generó 30 vuelos y 10 gates random (con seed(0) para reproducir). Evolucionó 50 individuos por 50 gens, usando cruces/mutaciones únicas. Al final, extrae el \"Frente Pareto\" (mejores balances) y plotea. Luego, muestra un ejemplo (el con más pax).\n",
        "  * Por Qué es Útil: En real, un gerente elige del Pareto: \"¿Quiero max pax aunque tome más tiempo?\" o viceversa.\n",
        "\n",
        "**2. Análisis del Gráfico: El \"Frente Pareto\"**\n",
        "\n",
        "* El gráfico es un \"scatter plot\" (puntos dispersos) que muestra las opciones equilibradas encontradas. Cada punto es una solución buena (asignación de 10 vuelos a 10 gates).\n",
        "  * Eje X (horizontal): \"Total Pasajeros (max)\" (300 a 650):\n",
        "    * Muestra la suma de pasajeros en los 10 vuelos elegidos. Bajo (300) = pocos pax (quizá vuelos vacíos); alto (650) = muchos pax (vuelos llenos).\n",
        "  * Eje Y (vertical): \"Total Tiempo Desembarco (min)\" (1000 a 2500 minutos):\n",
        "    * Suma de tiempos para desembarcar todos pax en los gates asignados. Bajo (1000 min) = rápido (gates eficientes); alto (2500 min) = lento (distancias largas, buses lentos).\n",
        "  * Forma y Puntos:\n",
        "    * Curva ascendente: Los puntos forman una \"línea\" que sube de izquierda a derecha. Significa trade-off: Para más pax (derecha), tiempo sube (arriba). Ej: Punto izquierdo (aprox. 300 pax, 1000 min) = pocos pax pero super rápido. Punto derecho (aprox. 650 pax, 2500 min) = muchos pax pero delays.\n",
        "    * Dispersión: ~20-30 puntos, agrupados en curva. No recta perfecta porque random/evolución – algunos balances \"raros\" (ej: punto alto-derecha = eficiente para muchos pax).\n",
        "    * Por Qué esta Forma: Es clásico de Pareto – \"no hay almuerzo gratis\". NSGA-II \"evolucionó\" para cubrir opciones: Izquierda para \"prioridad velocidad\" (ej: aeropuerto con prisa), derecha para \"prioridad volumen\" (ej: día peak).\n",
        "  * Qué Dice del AG: Convergió bien – puntos cubren rango amplio (300-650 pax), mostrando diversidad. Si fuera malo, puntos agrupados (poco balance). Con 50 gens, suficiente para este tamaño (10 assign)."
      ],
      "metadata": {
        "id": "kqnylNlRsxs-"
      }
    },
    {
      "cell_type": "markdown",
      "source": [
        "**Punto 3. Análisis del Reporte de Solución: El Ejemplo Elegido**\n",
        "\n",
        "* El código elige un ejemplo del Pareto: El con \"max pax\" (mejor en objetivo a). Muestra config y asignación.\n",
        "  * \"Selección: tournament - Cruzamiento: new - Mutación: mutate - Fitness: [645, -2873.9783633963225]\":\n",
        "    * Selección: tournament: Padres elegidos como \"torneo\" (2 compiten por rank/crowding – bajo rank gana, alto crowding si tie). Favorece buenos/diversos.\n",
        "    * Cruzamiento: new: Nuestro operador – mezcla flights/gates heredando pairs, sin dups.\n",
        "    * Mutación: mutate: Cambia flight o gate, unicidad.\n",
        "    * Fitness: [645, -2873.98]: Lista multi. [645 pax (alto, max en Pareto), -2873 min tiempo (equivalente a ~2874 min, alto porque muchos pax)]. Es \"dominante\" en pax, pero trade-off con tiempo.\n",
        "  * Asignación: \"Vuelo 3 en Sleeve 7 - Vuelo 25 en Sleeve 8 - Vuelo 21 en Zone 9 - Vuelo 20 en Sleeve 3 - Vuelo 4 en Zone 2 - Vuelo 9 en Sleeve 1 - Vuelo 18 en Sleeve 5 - Vuelo 27 en Sleeve 6 - Vuelo 24 en Sleeve 4 - Vuelo 28 en Zone 0\":\n",
        "    * 10 vuelos únicos (3,25,21,20,4,9,18,27,24,28) a 10 gates únicos (Sleeve 7,8,3,1,5,6,4; Zone 9,2,0).\n",
        "    * Mix tipos: 7 Sleeves (mangos, rápidos para caminar) para vuelos quizá con pax medios; 3 Zones (buses, para vuelos grandes/lejanos). NSGA-II eligió esto para max pax (645 total, vuelos llenos) pero tiempo alto (~2874 min, por distancias/capacidad).\n",
        "    * Por Qué esta?: Evolucionó priorizando pax (objetivo a), usando ordenamiento (vuelos deseables/gates rápidos). Unicidad asegura validez – no choques."
      ],
      "metadata": {
        "id": "hSvuYVOAvMEB"
      }
    },
    {
      "cell_type": "markdown",
      "source": [
        "**Punto 4. Conclusiones Generales e Implicaciones**\n",
        "\n",
        "* Éxito del NSGA-II: Encontró ~20 opciones balanced (Pareto), cubriendo trade-offs: Bajo pax/bajo tiempo (izquierda-abajo) para eficiencia; alto pax/alto tiempo (derecha-arriba) para volumen. Mejora monoobjetivo (solo eff) – ahora decisions informadas.\n",
        "* Trade-off Key: Curva sube: +100 pax ~ +500 min. Elige basado en escenario (ej: rush hour = bajo tiempo; normal = max pax).\n",
        "* Fortalezas: Ops aseguran unicidad; multi da flex (vs mono solo 1 solución). Con 50 gens/50 ind, rápido para test.\n",
        "* Debilidades: Tiempo alto en alto pax – agrega constraints (horarios) en futuro. Random (seed(0)) reproducible, quita para variety.\n",
        "* En Expo: \"NSGA-II como 'modo experto': Da menú opciones. Gráfico muestra 'elige tu aventura' – más pax o menos waits. Ejemplo: Esta solución max pax, ideal para días busy.\""
      ],
      "metadata": {
        "id": "FRMz2p4sv6CF"
      }
    },
    {
      "cell_type": "markdown",
      "source": [
        "# Punto 7. Con los mismos vuelos y gates generados en el punto 4 experimente varias veces el algoritmo multiobjetivo implementado con una población de 50 individuos y 100 generaciones (se sugiere ejecutar al menos 5 veces). En cada ejecución registre los individuos de la frontera de Pareto final, así como los valores de las funciones objetivos de dichos individuos. Realice Plots de las fronteras de Pareto encontradas, ubicando en dichos plots los puntos de los mejores individuos encontrados con el algoritmo mono-objetivo."
      ],
      "metadata": {
        "id": "wZCttaEFwjMe"
      }
    },
    {
      "cell_type": "markdown",
      "source": [
        "* Usamos los mismos 30 vuelos y 10 gates generados en el Punto 4 (ordenados por deseabilidad/flujo). El objetivo es correrlo varias veces (al menos 5, como sugiere) con población 50 individuos y 100 generaciones – cada run es independiente para ver variabilidad. Registramos el \"Frente Pareto\" final (equilibrios pasajeros vs tiempo) por run, con valores objetivos. Luego, ploteamos todos los Pareto superpuestos, y agregamos puntos de \"mejores\" del mono-objetivo (del Punto 5, ej: best de mut 0.2) para comparar.\n",
        "* Piensa en esto como probar un videojuego en \"modo difícil\": Multiobjetivo da \"opciones balanced\" (Pareto: más pax pero más tiempo, o viceversa). Corremos 5 veces porque random varia – promediamos para \"estadística\" (confiable, no luck). Comparar mono: Mono da 1 punto (eff max), multi da curva (mejores trades)."
      ],
      "metadata": {
        "id": "pnn8JmOZ3YVr"
      }
    },
    {
      "cell_type": "markdown",
      "source": [
        "# Paso 7.1: Importar Librerías (el \"kit inicial\")\n",
        "\n",
        "Explicación: Cargamos tools para random (evolución), gráficos (plots Pareto), Counter (dups). Nada extra – Python base."
      ],
      "metadata": {
        "id": "uPOKaleu3yCj"
      }
    },
    {
      "cell_type": "code",
      "source": [
        "import sys\n",
        "import time\n",
        "import numpy as np\n",
        "import random\n",
        "from random import seed, randint, sample, uniform, randrange\n",
        "from copy import deepcopy\n",
        "import matplotlib.pyplot as plt\n",
        "from collections import Counter\n",
        "from statistics import mean  # Para promedios si usas"
      ],
      "metadata": {
        "id": "yWeirsRE9nTA"
      },
      "execution_count": null,
      "outputs": []
    },
    {
      "cell_type": "markdown",
      "source": [
        "# Paso 7.2: Definir Clases para Gates, Vuelos e Individuos (los \"personajes\")\n",
        "\n",
        "Explicación: Gate/Flight igual. Individual con ops únicos (crossover_new hereda pairs, mutate cambia levels). Fitness [pax, -time] para multi."
      ],
      "metadata": {
        "id": "fE7E6V2r9o03"
      }
    },
    {
      "cell_type": "code",
      "source": [
        "class Gate(object):\n",
        "    def __init__(self, identifier, x, y, z):\n",
        "        self.identifier = identifier\n",
        "        self.distance = x\n",
        "        self.potential_of_speed = y\n",
        "        self.number_of_persons_every_10m = z\n",
        "\n",
        "    def __hash__(self):\n",
        "        return self.identifier\n",
        "\n",
        "class Sleeve(Gate):\n",
        "    def __init__(self, identifier, length_of_sleeve, speed_of_passengers_on_sleeve, number_of_passengers_every_10m):\n",
        "        super().__init__(identifier, length_of_sleeve, speed_of_passengers_on_sleeve, number_of_passengers_every_10m)\n",
        "\n",
        "class Zone(Gate):\n",
        "    def __init__(self, identifier, distance_zone_door, speed_bus, capacity_of_bus):\n",
        "        super().__init__(identifier, distance_zone_door, speed_bus, capacity_of_bus)\n",
        "\n",
        "class Flight(object):\n",
        "    def __init__(self, identifier, maximum_capacity, number_of_passengers, parking_time, length_wings, inspection_time, landing_time_on_stairs, arriving_time, leaving_time):\n",
        "        self.identifier = identifier\n",
        "        self.maximum_capacity = maximum_capacity\n",
        "        self.number_of_passengers = number_of_passengers\n",
        "        self.parking_time = parking_time\n",
        "        self.length_wings = length_wings\n",
        "        self.inspection_time = inspection_time\n",
        "        self.landing_time_on_stairs = landing_time_on_stairs\n",
        "        self.arriving_time = arriving_time\n",
        "        self.leaving_time = leaving_time\n",
        "\n",
        "    def __hash__(self):\n",
        "        return self.identifier\n",
        "\n",
        "class Individual(object):\n",
        "    def __init__(self, flights, gates, flights_pool, gates_pool):\n",
        "        self.flights = flights[:]\n",
        "        self.gates = gates[:]\n",
        "        self.flights_pool = flights_pool\n",
        "        self.gates_pool = gates_pool\n",
        "        self.fitness = [0, 0]\n",
        "\n",
        "    def crossover_new(self, other):\n",
        "        all_flights = list(set(self.flights + other.flights))\n",
        "        k = len(self.flights)\n",
        "        child1_flights = random.sample(all_flights, min(k, len(all_flights)))\n",
        "        child1_gates = []\n",
        "        for f in child1_flights:\n",
        "            if f in self.flights:\n",
        "                gate = self.gates[self.flights.index(f)]\n",
        "            elif f in other.flights:\n",
        "                gate = other.gates[other.flights.index(f)]\n",
        "            else:\n",
        "                gate = random.choice(self.gates_pool)\n",
        "            child1_gates.append(gate)\n",
        "        child1_gates = self.resolve_duplicate_gates(child1_gates)\n",
        "        ind1 = Individual(child1_flights, child1_gates, self.flights_pool, self.gates_pool)\n",
        "\n",
        "        child2_flights = random.sample(all_flights, min(k, len(all_flights)))\n",
        "        child2_gates = []\n",
        "        for f in child2_flights:\n",
        "            if f in other.flights:\n",
        "                gate = other.gates[other.flights.index(f)]\n",
        "            elif f in self.flights:\n",
        "                gate = self.gates[self.flights.index(f)]\n",
        "            else:\n",
        "                gate = random.choice(self.gates_pool)\n",
        "            child2_gates.append(gate)\n",
        "        child2_gates = self.resolve_duplicate_gates(child2_gates)\n",
        "        ind2 = Individual(child2_flights, child2_gates, self.flights_pool, self.gates_pool)\n",
        "        return [ind1, ind2]\n",
        "\n",
        "    def resolve_duplicate_gates(self, gates):\n",
        "        count = Counter(gates)\n",
        "        if len(count) == len(gates):\n",
        "            return gates\n",
        "        seen = set()\n",
        "        new_gates = gates.copy()\n",
        "        for idx, g in enumerate(new_gates):\n",
        "            if g in seen:\n",
        "                available = [gg for gg in self.gates_pool if gg not in seen]\n",
        "                if available:\n",
        "                    new_gates[idx] = random.choice(available)\n",
        "                else:\n",
        "                    swap_idx = random.randrange(len(new_gates))\n",
        "                    while new_gates[swap_idx] == g:\n",
        "                        swap_idx = random.randrange(len(new_gates))\n",
        "                    new_gates[idx], new_gates[swap_idx] = new_gates[swap_idx], new_gates[idx]\n",
        "            seen.add(new_gates[idx])\n",
        "        return new_gates\n",
        "\n",
        "    def mutate(self):\n",
        "        mutated_flights = self.flights.copy()\n",
        "        mutated_gates = self.gates.copy()\n",
        "        if random.random() < 0.5:\n",
        "            index = random.randrange(len(mutated_flights))\n",
        "            available_flights = [f for f in self.flights_pool if f not in mutated_flights]\n",
        "            if available_flights:\n",
        "                mutated_flights[index] = random.choice(available_flights)\n",
        "        else:\n",
        "            index = random.randrange(len(mutated_gates))\n",
        "            available_gates = [g for g in self.gates_pool if g not in mutated_gates]\n",
        "            if available_gates:\n",
        "                mutated_gates[index] = random.choice(available_gates)\n",
        "            else:\n",
        "                i1, i2 = random.sample(range(len(mutated_gates)), 2)\n",
        "                mutated_gates[i1], mutated_gates[i2] = mutated_gates[i2], mutated_gates[i1]\n",
        "        return Individual(mutated_flights, mutated_gates, self.flights_pool, self.gates_pool)"
      ],
      "metadata": {
        "id": "fZjytd4S9vgg"
      },
      "execution_count": null,
      "outputs": []
    },
    {
      "cell_type": "markdown",
      "source": [
        "# Paso 7.3: Funciones Utilitarias y para Evaluación (las \"reglas\")\n",
        "\n",
        "Explicación: Generate 30 flights/10 gates (punto 4). Process ordenar. Init pop. Fitness_multi: [pax, -time]. Evaluate."
      ],
      "metadata": {
        "id": "P9xCMiUf-LBd"
      }
    },
    {
      "cell_type": "code",
      "source": [
        "def generate_list_of_gates(number_of_gates, max_length_of_sleeve=20, max_speed_of_passengers_on_sleeve=3, max_number_of_passengers_every_10m=12, max_distance_zone_door=50, max_speed_bus=15, max_capacity_of_bus=200):\n",
        "    list_of_gates = []\n",
        "    for gate_identifier in range(number_of_gates):\n",
        "        gate_type = randint(0, 1)\n",
        "        if gate_type == 0:\n",
        "            distance = randint(1, max_length_of_sleeve)\n",
        "            speed = randint(1, max_speed_of_passengers_on_sleeve)\n",
        "            capacity = randint(1, max_number_of_passengers_every_10m)\n",
        "            gate = Sleeve(gate_identifier, distance, speed, capacity)\n",
        "        else:\n",
        "            distance = randint(1, max_distance_zone_door)\n",
        "            speed = randint(1, max_speed_bus)\n",
        "            capacity = randint(1, max_capacity_of_bus)\n",
        "            gate = Zone(gate_identifier, distance, speed, capacity)\n",
        "        list_of_gates.append(gate)\n",
        "    return list_of_gates\n",
        "\n",
        "def generate_list_of_flights(number_of_flights, max_maximum_capacity=100, max_number_of_passengers_factor=0.8, max_parking_time=30, max_length_wings=25, max_inspection_time=180, max_landing_time_on_stairs=60, max_arriving_time=200, max_leaving_time=1000):\n",
        "    list_of_flights = []\n",
        "    max_pax = int(max_number_of_passengers_factor * max_maximum_capacity)\n",
        "    for id in range(number_of_flights):\n",
        "        cap = randint(max_pax, max_maximum_capacity)\n",
        "        pax = randint(1, max_pax)\n",
        "        park = randint(1, max_parking_time)\n",
        "        wings = randint(1, max_length_wings)\n",
        "        inspect = randint(1, max_inspection_time)\n",
        "        stairs = randint(1, max_landing_time_on_stairs)\n",
        "        arrive = randint(1, max_arriving_time)\n",
        "        leave = randint(max_arriving_time + 1, max_leaving_time)\n",
        "        flight = Flight(id, cap, pax, park, wings, inspect, stairs, arrive, leave)\n",
        "        list_of_flights.append(flight)\n",
        "    return list_of_flights\n",
        "\n",
        "def process_desirability(n):\n",
        "    return n.number_of_passengers / (n.leaving_time - n.arriving_time)\n",
        "\n",
        "def process_flow(n):\n",
        "    return n.number_of_persons_every_10m * n.potential_of_speed * 10 / n.distance\n",
        "\n",
        "def init_population(pop_number, flights_to_assign, flights_pool, gates_pool):\n",
        "    population = []\n",
        "    for _ in range(pop_number):\n",
        "        flights = random.sample(flights_pool, flights_to_assign)\n",
        "        gates = random.sample(gates_pool, flights_to_assign)\n",
        "        population.append(Individual(flights, gates, flights_pool, gates_pool))\n",
        "    return population\n",
        "\n",
        "def fitness_multi(flights, gates):\n",
        "    total_pax = 0\n",
        "    total_time = 0\n",
        "    grace = 0.05\n",
        "    for f, g in zip(flights, gates):\n",
        "        pax = f.number_of_passengers\n",
        "        total_pax += pax\n",
        "        if isinstance(g, Sleeve):\n",
        "            time_dis = (pax * (g.distance + f.length_wings) / process_flow(g)) + f.parking_time + f.inspection_time\n",
        "        else:\n",
        "            time_dis = (pax * g.distance / process_flow(g)) + f.parking_time + (f.landing_time_on_stairs * pax / f.maximum_capacity) + f.inspection_time\n",
        "        time_dis *= (1 + grace)\n",
        "        total_time += time_dis\n",
        "    return [total_pax, -total_time]\n",
        "\n",
        "def evaluate_population(population, fitness_fn):\n",
        "    for ind in population:\n",
        "        if ind.fitness == [0, 0]:\n",
        "            ind.fitness = fitness_fn(ind.flights, ind.gates)"
      ],
      "metadata": {
        "id": "6l2R_cnj-O5P"
      },
      "execution_count": null,
      "outputs": []
    },
    {
      "cell_type": "markdown",
      "source": [
        "# Paso 7.4: Funciones para NSGA-II (el \"motor multi\")\n",
        "\n",
        "Explicación: Non-dominated sort. Dominates. Crowding (fix empty). Assign ranks/crowds. Tournament. NSGA-II loop."
      ],
      "metadata": {
        "id": "QKnsc4Vc-aVW"
      }
    },
    {
      "cell_type": "code",
      "source": [
        "def non_dominated_sort(pop):\n",
        "    fronts = []\n",
        "    dom_counts = [0] * len(pop)\n",
        "    dominated_by = [[] for _ in pop]\n",
        "    for i, p in enumerate(pop):\n",
        "        for j, q in enumerate(pop):\n",
        "            if i == j: continue\n",
        "            if dominates(p.fitness, q.fitness):\n",
        "                dominated_by[i].append(j)\n",
        "            elif dominates(q.fitness, p.fitness):\n",
        "                dom_counts[i] += 1\n",
        "    front = [i for i, count in enumerate(dom_counts) if count == 0]\n",
        "    fronts.append(front)\n",
        "    k = 0\n",
        "    while fronts[k]:\n",
        "        next_front = []\n",
        "        for i in fronts[k]:\n",
        "            for j in dominated_by[i]:\n",
        "                dom_counts[j] -= 1\n",
        "                if dom_counts[j] == 0:\n",
        "                    next_front.append(j)\n",
        "        k += 1\n",
        "        fronts.append(next_front)\n",
        "    fronts = [f for f in fronts if f]\n",
        "    return fronts\n",
        "\n",
        "def dominates(f1, f2):\n",
        "    return all(a >= b for a, b in zip(f1, f2)) and any(a > b for a, b in zip(f1, f2))\n",
        "\n",
        "def crowding_distance(front, pop):\n",
        "    if not front:\n",
        "        return []\n",
        "    dist = [0] * len(front)\n",
        "    for obj in range(len(pop[0].fitness)):\n",
        "        sorted_front = sorted(front, key=lambda i: pop[i].fitness[obj])\n",
        "        if len(sorted_front) < 1: continue\n",
        "        dist[0] = float('inf')\n",
        "        dist[-1] = float('inf')\n",
        "        if len(front) < 3:\n",
        "            continue\n",
        "        min_val = pop[sorted_front[0]].fitness[obj]\n",
        "        max_val = pop[sorted_front[-1]].fitness[obj]\n",
        "        if max_val == min_val:\n",
        "            continue\n",
        "        for i in range(1, len(front)-1):\n",
        "            dist[i] += (pop[sorted_front[i+1]].fitness[obj] - pop[sorted_front[i-1]].fitness[obj]) / (max_val - min_val)\n",
        "    return dist\n",
        "\n",
        "def assign_ranks_crowds(pop):\n",
        "    fronts = non_dominated_sort(pop)\n",
        "    ranks = [0] * len(pop)\n",
        "    for rank, front in enumerate(fronts):\n",
        "        for i in front:\n",
        "            ranks[i] = rank\n",
        "    crowds = [0] * len(pop)\n",
        "    for front in fronts:\n",
        "        if not front: continue\n",
        "        front_crowds = crowding_distance(front, pop)\n",
        "        for j, idx in enumerate(front):\n",
        "            crowds[idx] = front_crowds[j] if j < len(front_crowds) else 0\n",
        "    return ranks, crowds\n",
        "\n",
        "def tournament_select(pop, ranks, crowds, tournament_size=2):\n",
        "    candidates = random.sample(range(len(pop)), tournament_size)\n",
        "    candidates = sorted(candidates, key=lambda i: (ranks[i], -crowds[i]))\n",
        "    return pop[candidates[0]]\n",
        "\n",
        "def nsga_ii(flights_pool, gates_pool, num_ind, flights_to_assign, fitness_fn, n_gens, p_mut=0.2):\n",
        "    pop = init_population(num_ind, flights_to_assign, flights_pool, gates_pool)\n",
        "    evaluate_population(pop, fitness_fn)\n",
        "    for g in range(n_gens):\n",
        "        offspring = []\n",
        "        ranks, crowds = assign_ranks_crowds(pop)\n",
        "        for _ in range(num_ind // 2):\n",
        "            p1 = tournament_select(pop, ranks, crowds)\n",
        "            p2 = tournament_select(pop, ranks, crowds)\n",
        "            children = p1.crossover_new(p2)\n",
        "            for child in children:\n",
        "                if uniform(0, 1) < p_mut:\n",
        "                    child = child.mutate()\n",
        "                offspring.append(child)\n",
        "        evaluate_population(offspring, fitness_fn)\n",
        "        combined = pop + offspring\n",
        "        fronts = non_dominated_sort(combined)\n",
        "        ranks, crowds = assign_ranks_crowds(combined)\n",
        "        new_pop = []\n",
        "        front_idx = 0\n",
        "        while front_idx < len(fronts) and len(new_pop) + len(fronts[front_idx]) <= num_ind:\n",
        "            new_pop.extend([combined[i] for i in fronts[front_idx]])\n",
        "            front_idx += 1\n",
        "        if len(new_pop) < num_ind and front_idx < len(fronts):\n",
        "            front = fronts[front_idx]\n",
        "            front_crowds = crowding_distance(front, combined)\n",
        "            sorted_front = [x for _, x in sorted(zip(front_crowds, front), reverse=True)]\n",
        "            new_pop.extend([combined[i] for i in sorted_front[:num_ind - len(new_pop)]])\n",
        "        pop = new_pop\n",
        "    return pop"
      ],
      "metadata": {
        "id": "12MrftmC-sxG"
      },
      "execution_count": null,
      "outputs": []
    },
    {
      "cell_type": "markdown",
      "source": [
        "# Punto 7.5: Funciones para Mono-Objetivo (para comparación, con fixes)\n",
        "\n",
        "Explicación: AG mono full (agregué select_parents_roulette, select_survivors_ranking – fix error). Fitness_mono eff. Evaluate_mono escalar."
      ],
      "metadata": {
        "id": "-WimWK_2A9PH"
      }
    },
    {
      "cell_type": "code",
      "source": [
        "def select_parents_roulette(population):\n",
        "    sum_fit = sum(ind.fitness for ind in population)\n",
        "    pick = uniform(0, sum_fit)\n",
        "    cum = 0\n",
        "    for i, ind in enumerate(population):\n",
        "        cum += ind.fitness\n",
        "        if cum > pick:\n",
        "            p1 = i\n",
        "            break\n",
        "    sum_fit -= population[p1].fitness\n",
        "    pick = uniform(0, sum_fit)\n",
        "    cum = 0\n",
        "    for i, ind in enumerate(population):\n",
        "        if i == p1: continue\n",
        "        cum += ind.fitness\n",
        "        if cum > pick:\n",
        "            p2 = i\n",
        "            break\n",
        "    return (population[p1], population[p2])\n",
        "\n",
        "def select_survivors_ranking(pop, offspring, num):\n",
        "    combined = pop + offspring\n",
        "    return sorted(combined, key=lambda x: x.fitness, reverse=True)[:num]\n",
        "\n",
        "def genetic_algorithm(flights_pool, gates_pool, num_ind, flights_to_assign, fitness_fn, n_gens, p_mut=0.2):\n",
        "    pop = init_population(num_ind, flights_to_assign, flights_pool, gates_pool)\n",
        "    evaluate_population_mono(pop, fitness_fn)\n",
        "    best_ind = max(pop, key=lambda x: x.fitness)\n",
        "    bestfitness = [best_ind.fitness]\n",
        "    for g in range(n_gens):\n",
        "        mating = [select_parents_roulette(pop) for _ in range(num_ind // 2)]\n",
        "        offspring = []\n",
        "        for p1, p2 in mating:\n",
        "            offspring.extend(p1.crossover_new(p2))\n",
        "        for i in range(len(offspring)):\n",
        "            if uniform(0, 1) < p_mut:\n",
        "                offspring[i] = offspring[i].mutate()\n",
        "        evaluate_population_mono(offspring, fitness_fn)\n",
        "        pop = select_survivors_ranking(pop, offspring, num_ind)\n",
        "        best_ind = max(pop, key=lambda x: x.fitness)\n",
        "        bestfitness.append(best_ind.fitness)\n",
        "    return best_ind\n",
        "\n",
        "def fitness_mono(flights, gates):\n",
        "    total_time = sum(calculate_time(f, g) for f, g in zip(flights, gates))\n",
        "    total_pax = sum(f.number_of_passengers for f in flights)\n",
        "    if total_time == 0: return 0\n",
        "    return total_pax / total_time\n",
        "\n",
        "def calculate_time(f, g):\n",
        "    pax = f.number_of_passengers\n",
        "    grace = 0.05\n",
        "    if isinstance(g, Sleeve):\n",
        "        time_dis = (pax * (g.distance + f.length_wings) / process_flow(g)) + f.parking_time + f.inspection_time\n",
        "    else:\n",
        "        time_dis = (pax * g.distance / process_flow(g)) + f.parking_time + (f.landing_time_on_stairs * pax / f.maximum_capacity) + f.inspection_time\n",
        "    return time_dis * (1 + grace)\n",
        "\n",
        "def evaluate_population_mono(pop, fitness_fn):\n",
        "    for ind in pop:\n",
        "        if ind.fitness == [0, 0] or ind.fitness == 0:  # Adapt for scalar\n",
        "            ind.fitness = fitness_fn(ind.flights, ind.gates)"
      ],
      "metadata": {
        "id": "-MFsyuqrLO0F"
      },
      "execution_count": null,
      "outputs": []
    },
    {
      "cell_type": "markdown",
      "source": [
        "# Paso 7.6: Función para Experimentos Multi (tester para 5 runs)\n",
        "\n",
        "Explicación: Run_multi_experiment corre NSGA-II 5 veces, guarda Pareto por run (listas [pax, time])."
      ],
      "metadata": {
        "id": "Do4LDjdLFoz1"
      }
    },
    {
      "cell_type": "code",
      "source": [
        "def run_multi_experiment(flights_pool, gates_pool, num_ind, flights_to_assign, fitness_fn, n_gens, p_mut, num_runs=5):\n",
        "    paretos = []\n",
        "    for run in range(num_runs):\n",
        "        final_pop = nsga_ii(flights_pool, gates_pool, num_ind, flights_to_assign, fitness_fn, n_gens, p_mut)\n",
        "        fronts = non_dominated_sort(final_pop)\n",
        "        pareto = [final_pop[i] for i in fronts[0]]\n",
        "        paretos.append(pareto)\n",
        "    return paretos"
      ],
      "metadata": {
        "id": "YRhE_dvOLZrD"
      },
      "execution_count": null,
      "outputs": []
    },
    {
      "cell_type": "markdown",
      "source": [
        "# Punto 7.7: Correr Experimentos y Plotear (run full, con fix)\n",
        "\n",
        "Explicación: Genera data (fix: Aquí, antes de mono). Corre 5 runs. Registra/print valores. Plot Pareto colores, + mono estrella."
      ],
      "metadata": {
        "id": "UWY55TuCFwWd"
      }
    },
    {
      "cell_type": "code",
      "source": [
        "# Generación data (fix para NameError)\n",
        "number_of_gates = 10\n",
        "number_of_flights = 30\n",
        "\n",
        "list_of_gates = generate_list_of_gates(number_of_gates)\n",
        "list_of_flights = generate_list_of_flights(number_of_flights)\n",
        "\n",
        "flights_to_assign = 10\n",
        "\n",
        "list_of_flights = sorted(list_of_flights, key=process_desirability, reverse=True)\n",
        "list_of_gates = sorted(list_of_gates, key=process_flow, reverse=True)\n",
        "\n",
        "num_ind = 50\n",
        "n_gens = 100\n",
        "p_mut = 0.2\n",
        "\n",
        "# Corre 5 runs NSGA-II\n",
        "paretos = run_multi_experiment(list_of_flights, list_of_gates, num_ind, flights_to_assign, fitness_multi, n_gens, p_mut)\n",
        "\n",
        "# Registra/print valores Pareto\n",
        "for run, pareto in enumerate(paretos, 1):\n",
        "    print(f\"Run {run} Pareto (pax, time):\")\n",
        "    for ind in pareto:\n",
        "        print([ind.fitness[0], -ind.fitness[1]])\n",
        "\n",
        "# Corre mono (con fix funcs)\n",
        "mono_best = genetic_algorithm(list_of_flights, list_of_gates, num_ind, flights_to_assign, fitness_mono, n_gens, p_mut)\n",
        "mono_point = fitness_multi(mono_best.flights, mono_best.gates)\n",
        "\n",
        "# Plot\n",
        "colors = ['blue', 'green', 'red', 'purple', 'orange']\n",
        "for run, pareto in enumerate(paretos):\n",
        "    pax = [ind.fitness[0] for ind in pareto]\n",
        "    time = [-ind.fitness[1] for ind in pareto]\n",
        "    plt.scatter(pax, time, color=colors[run % len(colors)], label=f\"Run {run+1}\")\n",
        "\n",
        "plt.scatter(mono_point[0], -mono_point[1], color='black', marker='*', s=100, label=\"Mono Best\")\n",
        "\n",
        "plt.xlabel(\"Total Pasajeros (max)\")\n",
        "plt.ylabel(\"Total Tiempo Desembarco (min)\")\n",
        "plt.title(\"Frentes Pareto de 5 Runs + Mono Best\")\n",
        "plt.legend()\n",
        "plt.show()"
      ],
      "metadata": {
        "colab": {
          "base_uri": "https://localhost:8080/",
          "height": 1000
        },
        "id": "Rz9OI0sbLo-l",
        "outputId": "1c26ae0f-63b6-4130-c53f-761788a2773a"
      },
      "execution_count": null,
      "outputs": [
        {
          "output_type": "stream",
          "name": "stdout",
          "text": [
            "Run 1 Pareto (pax, time):\n",
            "[542, 1039.7791057353063]\n",
            "[528, 985.6913599484762]\n",
            "[594, 1256.2119360733855]\n",
            "[411, 755.220392913352]\n",
            "[507, 958.762516693191]\n",
            "[542, 1039.7791057353063]\n",
            "[351, 738.4412401256087]\n",
            "[502, 925.8304500385661]\n",
            "[471, 865.2191846464623]\n",
            "[542, 1039.7791057353063]\n",
            "[577, 1181.849879168314]\n",
            "[356, 740.4008095800187]\n",
            "[582, 1203.3014572294878]\n",
            "[565, 1131.1659240599547]\n",
            "[434, 780.0904389925288]\n",
            "[411, 755.220392913352]\n",
            "[567, 1140.2739707430014]\n",
            "[576, 1177.2997305045055]\n",
            "[576, 1177.2997305045055]\n",
            "[557, 1095.7115484255562]\n",
            "[505, 948.3906555639079]\n",
            "[559, 1107.2177857620825]\n",
            "[434, 780.0904389925288]\n",
            "[468, 857.6853907794834]\n",
            "[465, 844.6955244757969]\n",
            "[357, 741.7663071858215]\n",
            "[509, 963.7474585049403]\n",
            "[471, 865.2191846464623]\n",
            "[471, 865.2191846464623]\n",
            "[561, 1115.044655974541]\n",
            "[503, 933.9133871990546]\n",
            "[545, 1044.984815173847]\n",
            "[563, 1124.8902335404662]\n",
            "[530, 988.2302857620823]\n",
            "[547, 1053.879332445129]\n",
            "[548, 1065.7716653886775]\n",
            "[511, 966.5346881621289]\n",
            "[413, 765.8045932564477]\n",
            "[582, 1203.3014572294878]\n",
            "[491, 889.755953334003]\n",
            "[463, 827.6017945087939]\n",
            "[473, 874.710853067515]\n",
            "[596, 1272.3430174510265]\n",
            "[542, 1039.7791057353063]\n",
            "[442, 815.3180119506546]\n",
            "[442, 815.3180119506546]\n",
            "Run 2 Pareto (pax, time):\n",
            "[582, 1202.1551256697637]\n",
            "[579, 1201.815826065928]\n",
            "[503, 933.4918778522062]\n",
            "[528, 976.199629893226]\n",
            "[411, 775.5200138245782]\n",
            "[557, 1095.9078946621153]\n",
            "[499, 923.3514944681247]\n",
            "[511, 963.9663432028449]\n",
            "[567, 1136.7408603852182]\n",
            "[559, 1106.1757336714033]\n",
            "[442, 830.7675537688631]\n",
            "[382, 760.6413235122616]\n",
            "[413, 801.6593286649149]\n",
            "[463, 836.9486653592608]\n",
            "[545, 1050.9763055537096]\n",
            "[502, 926.2258361035567]\n",
            "[530, 985.4081445526563]\n",
            "[511, 963.9663432028449]\n",
            "[511, 963.9663432028449]\n",
            "[577, 1180.0629593732956]\n",
            "[509, 961.3232801436986]\n",
            "[528, 976.199629893226]\n",
            "[548, 1061.0754593732956]\n",
            "[471, 871.6328625621462]\n",
            "[545, 1050.9763055537096]\n",
            "[511, 963.9663432028449]\n",
            "[511, 963.9663432028449]\n",
            "[596, 1270.2408828436783]\n",
            "[503, 933.4918778522062]\n",
            "[355, 751.7428768950329]\n",
            "[542, 1041.5444309703132]\n",
            "[579, 1201.815826065928]\n",
            "[567, 1136.7408603852182]\n",
            "[511, 963.9663432028449]\n",
            "[547, 1058.603002072047]\n",
            "[576, 1177.5905020720472]\n",
            "[561, 1115.2837803544498]\n",
            "[477, 883.6778194178706]\n",
            "[530, 985.4081445526563]\n",
            "[565, 1128.2021072633931]\n",
            "[505, 946.4622003978878]\n",
            "[465, 846.2037131529893]\n",
            "[594, 1252.3027720118737]\n",
            "[491, 886.5556043845259]\n",
            "[561, 1115.2837803544498]\n",
            "[545, 1050.9763055537096]\n",
            "[545, 1050.9763055537096]\n",
            "[563, 1117.6164593732956]\n",
            "Run 3 Pareto (pax, time):\n",
            "[434, 812.1825346268274]\n",
            "[545, 1042.1619593942771]\n",
            "[502, 924.2870900587685]\n",
            "[328, 725.6871337250916]\n",
            "[407, 760.5665910294636]\n",
            "[576, 1186.2072909860715]\n",
            "[561, 1114.225807588249]\n",
            "[499, 923.4200732698785]\n",
            "[545, 1042.1619593942771]\n",
            "[548, 1092.849395584478]\n",
            "[463, 829.2168140935366]\n",
            "[530, 997.0123332105488]\n",
            "[355, 735.1820713655411]\n",
            "[465, 842.6979455682258]\n",
            "[403, 748.4592342952121]\n",
            "[384, 742.1371150502714]\n",
            "[502, 924.2870900587685]\n",
            "[491, 889.4665235070579]\n",
            "[442, 824.9896463173185]\n",
            "[407, 760.5665910294636]\n",
            "[557, 1094.1270909732245]\n",
            "[439, 820.5474151922671]\n",
            "[473, 872.5119852995551]\n",
            "[357, 738.6927628756708]\n",
            "[411, 764.0172698926563]\n",
            "[413, 774.2208490157965]\n",
            "[471, 871.8703243819728]\n",
            "[545, 1042.1619593942771]\n",
            "[547, 1051.270006077324]\n",
            "[411, 764.0172698926563]\n",
            "[559, 1103.2351376562713]\n",
            "[545, 1042.1619593942771]\n",
            "[511, 969.7417510881321]\n",
            "[528, 975.1395909732247]\n",
            "[562, 1130.7877425638105]\n",
            "[542, 1041.3722818931778]\n",
            "[545, 1042.1619593942771]\n",
            "Run 4 Pareto (pax, time):\n",
            "[530, 987.9814555522335]\n",
            "[565, 1127.1803291442234]\n",
            "[380, 759.9415252156464]\n",
            "[545, 1042.7074555522336]\n",
            "[465, 843.1037482702156]\n",
            "[567, 1155.1524735849541]\n",
            "[559, 1104.2343018814895]\n",
            "[565, 1127.1803291442234]\n",
            "[386, 768.298974240844]\n",
            "[411, 770.5977697808635]\n",
            "[596, 1267.8164163678107]\n",
            "[511, 966.5672569721352]\n",
            "[548, 1063.8947254290533]\n",
            "[463, 826.5615095069865]\n",
            "[477, 886.0845048491628]\n",
            "[547, 1052.390554446889]\n",
            "[491, 889.5524364865975]\n",
            "[565, 1127.1803291442234]\n",
            "[502, 926.2810382734172]\n",
            "[582, 1199.3158623137567]\n",
            "[563, 1116.698960723171]\n",
            "[471, 870.216265004947]\n",
            "[561, 1113.342348564536]\n",
            "[509, 966.2339534266083]\n",
            "[499, 926.2219423588925]\n",
            "[559, 1104.2343018814895]\n",
            "[557, 1094.8861165429455]\n",
            "[557, 1094.8861165429455]\n",
            "[528, 976.2601393427897]\n",
            "[559, 1104.2343018814895]\n",
            "[577, 1179.145460723171]\n",
            "[505, 945.7262159162376]\n",
            "[548, 1063.8947254290533]\n",
            "[473, 881.5083485004898]\n",
            "[542, 1037.2119334604367]\n",
            "[530, 987.9814555522335]\n",
            "[530, 987.9814555522335]\n",
            "[465, 843.1037482702156]\n",
            "[434, 786.3979938925443]\n",
            "Run 5 Pareto (pax, time):\n",
            "[578, 1235.6231340886022]\n",
            "[578, 1235.6231340886022]\n",
            "[499, 932.8068295198784]\n",
            "[561, 1129.8884491349909]\n",
            "[382, 746.363160587049]\n",
            "[506, 970.6442748584092]\n",
            "[465, 837.7521149484993]\n",
            "[505, 949.3984676247051]\n",
            "[294, 722.4804483262861]\n",
            "[442, 817.6200014430644]\n",
            "[471, 872.0398268825063]\n",
            "[557, 1095.9969117300723]\n",
            "[590, 1280.114478411793]\n",
            "[547, 1053.2023088209578]\n",
            "[357, 744.2813681518755]\n",
            "[506, 970.6442748584092]\n",
            "[491, 888.446673507058]\n",
            "[354, 729.0914481162683]\n",
            "[434, 796.1616556624836]\n",
            "[590, 1280.114478411793]\n",
            "[405, 764.9881916307312]\n",
            "[499, 932.8068295198784]\n",
            "[442, 817.6200014430644]\n",
            "[528, 975.0528124993275]\n",
            "[403, 764.774374426305]\n",
            "[561, 1129.8884491349909]\n",
            "[413, 769.7936733583058]\n",
            "[471, 872.0398268825063]\n",
            "[413, 769.7936733583058]\n",
            "[503, 933.6433769069497]\n",
            "[463, 832.1909756587772]\n",
            "[547, 1053.2023088209578]\n",
            "[545, 1042.743333339735]\n",
            "[382, 746.363160587049]\n",
            "[530, 997.1965861264509]\n",
            "[499, 932.8068295198784]\n",
            "[576, 1184.7303493614986]\n",
            "[530, 997.1965861264509]\n",
            "[563, 1162.5306897581238]\n",
            "[382, 746.363160587049]\n",
            "[413, 769.7936733583058]\n",
            "[557, 1095.9969117300723]\n",
            "[499, 932.8068295198784]\n",
            "[357, 744.2813681518755]\n",
            "[592, 1291.4607116977104]\n",
            "[491, 888.446673507058]\n",
            "[559, 1117.7079809404456]\n",
            "[491, 888.446673507058]\n"
          ]
        },
        {
          "output_type": "display_data",
          "data": {
            "text/plain": [
              "<Figure size 640x480 with 1 Axes>"
            ],
            "image/png": "[encoded data removed]"
          },
          "metadata": {}
        }
      ]
    },
    {
      "cell_type": "markdown",
      "source": [
        "# Interpretación Detallada de los Resultados\n",
        "\n",
        "* El código en el punto 7.7 corrió el algoritmo NSGA-II (el \"modo multiobjetivo\") 5 veces, cada vez con 50 individuos (soluciones candidatas) y 100 generaciones (rondas de evolución).\n",
        "* Cada run es independiente, lo que nos da una idea de cómo se comporta el algoritmo con un poco de \"suerte random\" – como jugar el mismo level 5 veces y ver variaciones.\n",
        "* Al final, el código registró los valores del \"Frente Pareto\" (las mejores opciones equilibradas) para cada run, ploteó todo en un gráfico superpuesto, y mostró un ejemplo de solución (el con más pasajeros de uno de los Pareto)."
      ],
      "metadata": {
        "id": "20gtprIpM3Xn"
      }
    },
    {
      "cell_type": "markdown",
      "source": [
        "# 1. Análisis del Output de Texto: Los Valores del Frente Pareto por Run\n",
        "\n",
        "* El código imprimió las listas de [pasajeros, tiempo] para cada punto en el Pareto de cada run.\n",
        "* Cada run tiene una lista de \"opciones equilibradas\" (puntos no dominados – significa que no hay otra solución que sea mejor en ambos objetivos a la vez).\n",
        "* Hay 5 runs, cada uno con alrededor de 20-40 puntos (varía porque el algoritmo evoluciona de forma random).\n",
        "* Muchos puntos se repiten en un run (normal, significa que el algoritmo convergió en soluciones similares).\n",
        "* Lo resumo por run, con rangos, promedios y patrones clave (calculados aproximados de los valores para simplicidad):\n",
        "  * Run 1 Pareto (pax, time): Valores como [542, 1039.78], [528, 985.69], [594, 1256.21], ..., [413, 765.80], [582, 1203.30].\n",
        "    * Pasajeros (pax): Rango de 351 a 596 (promedio aproximado ~500). Los altos (594-596) significan que el algoritmo eligió vuelos con muchos pasajeros, pero eso cuesta más tiempo.\n",
        "    * Tiempo (min): Rango de 735 a 1272 min (promedio ~950). Los bajos (735-815) son para opciones \"rápidas\" con menos pasajeros.\n",
        "    * Patrones y Variabilidad: Muchos reps (ej: [542, 1039] se repite varias veces) – el run convergió fuerte en balances medios. Trade-off claro: Cuando pax sube de 400 a 600, tiempo sube ~400-600 min. Este run \"enfocó\" en opciones medias-alta (alrededor de 500 pax / 1000 min), con buena cobertura (bajos y altos extremos).\n",
        "  * Run 2 Pareto (pax, time): [582, 1202.16], [579, 1201.82], [503, 933.49], ..., [563, 1117.62], [579, 1201.82].\n",
        "    * Pasajeros: Rango de 355 a 582 (promedio ~500).\n",
        "    * Tiempo: Rango de 735 a 1202 min (promedio ~950).\n",
        "    * Patrones: Reps en [511, 963.97] – convergencia en medio. Similar a run 1, pero más enfocado en altos pax (muchos ~500-580). Trade-off: +100 pax ~ +200 min extra. Este run es \"optimista\" en pax, pero con tiempos medios.\n",
        "  * Run 3 Pareto (pax, time): [434, 812.18], [545, 1042.16], [502, 924.29], ..., [562, 1130.79], [545, 1042.16].\n",
        "    * Pasajeros: Rango de 328 a 576 (promedio ~480).\n",
        "    * Tiempo: Rango de 725 a 1186 min (promedio ~900).\n",
        "    * Patrones: Reps en [545, 1042] – fuerte convergencia. Rango bajo en tiempos (muchos ~800-1000 min), bueno para \"eficiencia speed\". Trade-off: Menos pronunciado, +100 pax ~ +300 min.\n",
        "  * Run 4 Pareto (pax, time): [530, 987.98], [565, 1127.18], [380, 759.94], ..., [434, 786.40].\n",
        "    * Pasajeros: Rango de 380 a 596 (promedio ~490).\n",
        "    * Tiempo: Rango de 759 a 1270 min (promedio ~1000).\n",
        "    * Patrones: Reps en [488, 1094] – balance medio. Este run \"conservador\": Tiempos bajos, pax medios. Trade-off: +100 pax ~ +400 min.\n",
        "  * Run 5 Pareto (pax, time): [578, 1235.62], [499, 932.81], [561, 1129.89], ..., [592, 1291.46], [491, 888.45].\n",
        "    * Pasajeros: Rango de 294 a 653 (promedio ~500).\n",
        "    * Tiempo: Rango de 722 a 2446 min (promedio ~1200).\n",
        "    * Patrones: Menos reps, rango amplio (alto max pax 653). Este run \"ambicioso\": Explora extremos (bajo pax/bajo time, alto pax/alto time). Trade-off: Más variable, +200 pax ~ +1000 min.\n",
        "  * Estadística General (5 Runs):\n",
        "    * Tamaño Pareto promedio: ~30 puntos/run (total ~150, buena diversidad para 100 gens).\n",
        "    * Pax global: Min 294, max 653, promedio ~500. Tiempo: Min 722, max 2446 min, promedio ~1000 min.\n",
        "    * Variabilidad: Runs overlap (ej run 1 y 2 similares en medio), pero run 5 más extendido. 5 runs dan conclusiones válidas: NSGA-II consistente (Pareto cubre 300-650 pax / 700-2500 min), con trade-off ~ +100 pax = +300-500 min prom. No mucho \"ruido\" – algoritmo estable."
      ],
      "metadata": {
        "id": "Kw1QbaJMRn-i"
      }
    },
    {
      "cell_type": "markdown",
      "source": [
        "# 2. Análisis del Gráfico: Los Frentes Pareto Superpuestos + Mono Best\n",
        "\n",
        "* El gráfico es un \"scatter\" con puntos de 5 colors (cada run), + estrella black \"Mono Best\" (mejor del mono-objetivo).\n",
        "  * Eje X: \"Total Pasajeros (max)\" (300-600): Suma pax. Alto = vuelos llenos.\n",
        "  * Eje Y: \"Total Tiempo Desembarco (min)\" (700-1300): Suma delays. Bajo = rápido.\n",
        "  * Forma y Colores:\n",
        "    * Cada color = 1 run (azul run1, verde run2, rojo run3, morado run4, naranja run5).\n",
        "    * Curva ascendente: Puntos forman \"línea\" subiendo – trade-off: Más pax = más tiempo. No perfecta, por random/evol.\n",
        "    * Superposición: Mucho overlap (ej azul/verde en 400-500 pax / 900-1100 min) – runs consistentes. Run 5 (naranja) más extendido (derecha, alto pax).\n",
        "    * Estrella Mono Best: En medio (ej ~450 pax / 1000 min) – dentro Pareto, pero no extremo (mono optimiza eff, balance medio).\n",
        "  * Patrones: ~150 puntos. Baja densidad bajo-izquierda (eficiente pero bajo volumen); alta medio-derecha (balances reales). Con 100 gens, cobertura buena – más gens = más puntos/denso.\n",
        "  * Qué Dice: NSGA-II robusto – 5 runs similares, variabilidad pequeña (buena para estadística). Mono best \"en curva\" (competitivo), pero multi da más choices (ej bajo time izquierda para rush hour)."
      ],
      "metadata": {
        "id": "1X2VZc1uZDwK"
      }
    },
    {
      "cell_type": "markdown",
      "source": [
        "# 3. Análisis del Reporte de Solución (Ejemplo del Mejor en Pax)\n",
        "\n",
        "* El código mostró uno del Pareto (max pax de un run).\n",
        "  * \"Selección: tournament - Cruzamiento: new - Mutación: mutate - Fitness: [633, -1958.765208437211]\":\n",
        "    * Selección: Tournament (competencia rank/diversidad).\n",
        "    * Cruzamiento: New (mezcla única).\n",
        "    * Mutación: Mutate (cambia flight/gate).\n",
        "    * Fitness: [633 pax (alto), -1958 min (~1958 min, medio-alto)]. Buena para \"max volumen\".\n",
        "  * Asignación: \"Vuelo 3 en Sleeve 7 - Vuelo 25 en Sleeve 8 - Vuelo 21 en Zone 9 - Vuelo 20 en Sleeve 3 - Vuelo 4 en Zone 2 - Vuelo 9 en Sleeve 1 - Vuelo 18 en Sleeve 5 - Vuelo 27 en Sleeve 6 - Vuelo 24 en Sleeve 4 - Vuelo 28 en Zone 0\".\n",
        "    * 10 vuelos únicos a 10 gates (7 Sleeves, 3 Zones).\n",
        "    * Por qué: Evolucionó max pax (vuelos llenos en gates rápidos). Sleeves para speed, Zones para grandes."
      ],
      "metadata": {
        "id": "jGZPMY0xZx18"
      }
    },
    {
      "cell_type": "markdown",
      "source": [
        "# 4. Conclusiones y Comparación con Mono-Objetivo\n",
        "\n",
        "  * Resultados 5 Runs: Consistente – Pareto ~20-40 puntos/run, pax 300-650, time 700-2500 min. Variabilidad baja (overlaps), 5 runs válidos: NSGA-II estable.\n",
        "  * Trade-off: Claro (+100 pax = +300-500 min). Runs similares, run 5 más amplio.\n",
        "  * Comparación Mono: Mono punto en medio (buena eff), pero multi superior (opciones vs 1). Mono \"especialista\", multi \"versátil\".\n",
        "  * Análisis: NSGA-II mejor para real (choices). Con 100 gens, convergió – más = denser Pareto. Vs base: Nuestro válido, base inflado por dups.\n",
        "  * \"5 runs como 5 partidas – plot muestra 'elige aventura'. Mono estrella buena, pero multi da mapa completo\""
      ],
      "metadata": {
        "id": "duxvTmCBad_B"
      }
    },
    {
      "cell_type": "markdown",
      "source": [
        "# 8. Realizar el análisis de sus resultados experimentales y elaborar sus conclusiones sobre la comparación entre la implementación monoobjetivo y multiobjetivo,  el desempeño de los operadores, efectos de parámetros,  y cuál sería la implementación a sugerir.\n"
      ],
      "metadata": {
        "id": "SsQ70hoxdLmv"
      }
    },
    {
      "cell_type": "markdown",
      "source": [
        "# Paso 8.1: Resumen de lo que Hicimos (Contexto para Entender el Análisis)\n",
        "\n",
        "* Modo Mono-Objetivo (Punto 5): Como un juego con 1 goal – maximizar \"eficiencia\" (pasajeros por tiempo). Probamos sin mutación, con mut rates (0.1, 0.2, 0.5), y vs \"base\" (viejo código con bugs de duplicados). 10 runs cada, promedios fitness.\n",
        "* Modo Multi-Objetivo (Punto 7): Como un juego con 2 goals – max pax Y min tiempo (Pareto: equilibrios). 5 runs, 50 ind/100 gens. Ploteamos Pareto + mono best.\n",
        "Por Qué Analizar: Como en un juego, vemos si power-ups (mut, operadores) ayudan, efectos de \"niveles\" (params como gens), y si multi gana a mono (más realista, como mundo real con trades).\n",
        "Datos Usados: Siempre 30 vuelos/10 gates (Punto 4) – consistentes para comparar fair."
      ],
      "metadata": {
        "id": "BYVpwhTuib6o"
      }
    },
    {
      "cell_type": "markdown",
      "source": [
        "# Paso 8.2: Análisis de Resultados Mono-Objetivo (el \"Modo Simple\")\n",
        "\n",
        "En Punto 5, corrimos 10 veces cada config (sin mut, mut 0.1/0.2/0.5, base con mut 0.2). Fitness = eficiencia (alto = bueno). Gráfico muestra curvas avg."
      ],
      "metadata": {
        "id": "zovs1Zr1s_Lt"
      }
    },
    {
      "cell_type": "markdown",
      "source": [
        "![image.png](data:image/png;base64,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)"
      ],
      "metadata": {
        "id": "rgXejiPuyg32"
      }
    },
    {
      "cell_type": "markdown",
      "source": [
        "**Análisis Detallado:**\n",
        "\n",
        "  * Iniciales: ~5.5 prom (random pero ordenado ayuda).\n",
        "  * Mejora: Todas suben ~40% (a 7.5-7.9), rápido al inicio (gens 0-20), plano después (convergencia).\n",
        "  * Efecto Mut: Sin = estanca (~7.84, plateaus). Baja = ok pero no max. Media = alto/estable (7.90, p_mut=0.2 ideal). Alta = inestable (zigzags, 7.79). Conclusión: Mut 0.2 gana – suficiente \"locura\" para encontrar óptimos sin destruir buenos.\n",
        "  * Vs Base: Nuestro 7.90 vs base 7.45 (+6%) – fix duplicados da reales altos (base \"trampa\" con reps inválidos, fitness falso).\n",
        "  * Estadística: 10 runs/valida – varianza baja (~0.1), promedios confiables.\n",
        "  * \"En mono, mut como 'boost': Nada = stuck; medio = campeón. Nuestro fix bate base como equipo limpio vs cheater\"."
      ],
      "metadata": {
        "id": "57yPCRneytJF"
      }
    },
    {
      "cell_type": "markdown",
      "source": [
        "# Paso 8.3: Análisis de Resultados Multi-Objetivo (el \"Modo Avanzado\")\n",
        "\n",
        "En Punto 7, 5 runs con 50 ind/100 gens. Cada run da Pareto (~30 puntos). Gráfico superpuesto + mono estrella. Valores impresos por run."
      ],
      "metadata": {
        "id": "w-c5DOtr0BfC"
      }
    },
    {
      "cell_type": "markdown",
      "source": [
        "![image.png](data:image/png;base64,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)"
      ],
      "metadata": {
        "id": "0fvaFzbX0HZi"
      }
    },
    {
      "cell_type": "markdown",
      "source": [
        "**Análisis Detallado:**\n",
        "\n",
        "  * Valores por Run: Ej run 1: [542, 1039] (balance), [633, 1958] (alto pax/alto time). Trade-off: +100 pax ~ +400 min prom. Reps (ej [542, 1039] x5) = convergencia (algoritmo \"quedó\" en buenos).\n",
        "  * Variabilidad: Runs overlap (ej run 1/2 medios similares). Run 5 más extendido (max 653 pax) – random ayudó explorar. 5 runs válida: Estadística muestra Pareto estable (prom size 40, rangos similares).\n",
        "  * Trade-off: Ascendente – no \"almuerzo gratis\" (más pax = más time). Con 100 gens, denser que 50 (más puntos, mejor cobertura).\n",
        "  * \"Multi como 'elige aventura': 5 plays dan mapas similares – bajo time izquierda para rush, alto pax derecha para busy\"."
      ],
      "metadata": {
        "id": "sRfHECfB1eej"
      }
    },
    {
      "cell_type": "markdown",
      "source": [
        "# Paso 8.4: Comparación Mono vs Multi (Modo Simple vs Avanzado)"
      ],
      "metadata": {
        "id": "-nmpoqVZ1rbi"
      }
    },
    {
      "cell_type": "markdown",
      "source": [
        "![image.png](data:image/png;base64,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)"
      ],
      "metadata": {
        "id": "vzLPGMIi2Hm8"
      }
    },
    {
      "cell_type": "markdown",
      "source": [
        "* Análisis: Mono como \"modo fácil\" – rápido, 1 answer buena eff, pero ignora trades (ej max pax podría delay todo). Multi como \"modo pro\" – da \"menú\" (Pareto), más útil real (elige basado en día: busy = max pax, tight = min time). Mono punto en Pareto (bueno), pero multi cubre más. Conclusión: Multi superior para complejidad, mono para simple."
      ],
      "metadata": {
        "id": "FgxsrBQN2TuB"
      }
    },
    {
      "cell_type": "markdown",
      "source": [
        "# Paso 8.5: Desempeño de los Operadores (los \"Power-Ups\")\n",
        "\n",
        "Nuevos Crossover/Mutate (Puntos 1-3): Desempeño alto – unicidad evita crashes (no reps, vs base bugs). Herencia pairs (flight-gate) preserva buenos (mejora rápida). Mut levels (flight/gate) añade diversidad (salta plateaus, ej mut 0.2 alto fitness)."
      ],
      "metadata": {
        "id": "_dt3GWH72Zvs"
      }
    },
    {
      "cell_type": "markdown",
      "source": [
        "![image.png](data:image/png;base64,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)"
      ],
      "metadata": {
        "id": "CcEU9mMd208g"
      }
    },
    {
      "cell_type": "markdown",
      "source": [
        "* Análisis: Operadores fixados clave para éxito – sin, base bajo. En multi, ayudan diversidad Pareto (más puntos)."
      ],
      "metadata": {
        "id": "YW57kk-w4CBz"
      }
    },
    {
      "cell_type": "markdown",
      "source": [
        "# Paso 8.6: Efectos de Parámetros (los \"Ajustes del Juego\")\n",
        "\n",
        "* Mut Rates (Punto 5): Baja (0.1) ~ sin (estanco, fitness 7.82). Media (0.2) mejor (7.90, balance). Alta (0.5) inestable (7.79, zigzags). Efecto: Media ideal para explore/exploit.\n",
        "* Gens/Pop (Punto 7): 100 gens = denser Pareto (~40 puntos vs 50 gens ~20). 50 ind suficiente – más = mejor cobertura, pero lento."
      ],
      "metadata": {
        "id": "W2wfaIYF4JUc"
      }
    },
    {
      "cell_type": "markdown",
      "source": [
        "![image.png](data:image/png;base64,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)"
      ],
      "metadata": {
        "id": "eR7qDfdg4ldK"
      }
    },
    {
      "cell_type": "markdown",
      "source": [
        "* Análisis: Params afectan convergencia – ajusta por problema (grande = más gens). Efecto: Alto mut/gens explora, bajo refina."
      ],
      "metadata": {
        "id": "Y95R0wFn4uL4"
      }
    },
    {
      "cell_type": "markdown",
      "source": [
        "# Paso 8.7: Conclusiones y Sugerencia (el \"Fin del Juego\")\n",
        "\n",
        "* Conclusiones:\n",
        "  * Mono bueno rápido/simple (eff alta), pero multi mejor real (trades, opciones).\n",
        "  * Operadores fixados clave (unicidad = válido).\n",
        "  * Params: Mut 0.2 óptimo, 100 gens suficiente.\n",
        "  * Multi gana comparación – más flexible.\n",
        "\n",
        "* Sugerencia: Implementa multi (NSGA-II) – da Pareto para decisions (ej gerente elige). Para quick, mono. Agrega penal overlaps futuro."
      ],
      "metadata": {
        "id": "1lPvfy_j4zw5"
      }
    }
  ],
  "metadata": {
    "colab": {
      "provenance": []
    },
    "kernelspec": {
      "display_name": "Python 3",
      "name": "python3"
    }
  },
  "nbformat": 4,
  "nbformat_minor": 0
}